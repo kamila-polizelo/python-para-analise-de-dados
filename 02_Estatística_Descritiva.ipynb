{
  "nbformat": 4,
  "nbformat_minor": 0,
  "metadata": {
    "colab": {
      "name": "02 - Estatística Descritiva.ipynb",
      "provenance": [],
      "collapsed_sections": [],
      "include_colab_link": true
    },
    "kernelspec": {
      "name": "python3",
      "display_name": "Python 3"
    },
    "language_info": {
      "name": "python"
    }
  },
  "cells": [
    {
      "cell_type": "markdown",
      "metadata": {
        "id": "view-in-github",
        "colab_type": "text"
      },
      "source": [
        "<a href=\"https://colab.research.google.com/github/kamila-polizelo/python-para-analise-de-dados/blob/main/02_Estat%C3%ADstica_Descritiva.ipynb\" target=\"_parent\"><img src=\"https://colab.research.google.com/assets/colab-badge.svg\" alt=\"Open In Colab\"/></a>"
      ]
    },
    {
      "cell_type": "markdown",
      "source": [
        "# **Ciência de Dados para Finanças** <p>\n",
        "**por: @Odemir Depieri Jr** - [Linkedin](https://www.linkedin.com/in/odemir-depieri-jr/) <p>\n",
        "**por: @Ronisson Lucas Calmon da Conceição** - [Linkedin](https://www.linkedin.com/in/ronisson-lucas-calmon-da-concei%C3%A7%C3%A3o-7aa884202/) <p>\n",
        "[Página do Curso](https://)"
      ],
      "metadata": {
        "id": "7wkZ1jHmM3RY"
      }
    },
    {
      "cell_type": "markdown",
      "source": [
        "# **Estatística Descritiva**\n",
        "Em sua essência, a Estatística é a ciência que apresenta processos próprios para coletar,\n",
        "apresentar e interpretar adequadamente conjuntos de dados, sejam eles numéricos ou não. Podese dizer que seu objetivo é o de apresentar informações sobre dados em análise para que se tenha\n",
        "maior compreensão dos fatos que os mesmos representam.<p>\n",
        "A **estatística descritiva**, como o próprio nome já diz, se preocupa em descrever os dados.<p>\n",
        "Referência: http://www.each.usp.br/rvicente/Guedes_etal_Estatistica_Descritiva.pdf"
      ],
      "metadata": {
        "id": "IVsg2tsZMctF"
      }
    },
    {
      "cell_type": "code",
      "source": [
        "import pandas as pd\n",
        "import seaborn as sns\n",
        "import matplotlib.pyplot as plt\n",
        "\n",
        "import warnings\n",
        "warnings.filterwarnings('ignore')"
      ],
      "metadata": {
        "id": "PWLOjioqMf48"
      },
      "execution_count": null,
      "outputs": []
    },
    {
      "cell_type": "code",
      "source": [
        "# Leitura da Base de Dados\n",
        "Base_Dados = sns.load_dataset('iris')\n",
        "\n",
        "# Primeiros registros\n",
        "Base_Dados.head()"
      ],
      "metadata": {
        "colab": {
          "base_uri": "https://localhost:8080/",
          "height": 206
        },
        "id": "5besRAgIzy64",
        "outputId": "f4338efe-7adc-4fc7-9ada-c58019576fea"
      },
      "execution_count": null,
      "outputs": [
        {
          "output_type": "execute_result",
          "data": {
            "text/plain": [
              "   sepal_length  sepal_width  petal_length  petal_width species\n",
              "0           5.1          3.5           1.4          0.2  setosa\n",
              "1           4.9          3.0           1.4          0.2  setosa\n",
              "2           4.7          3.2           1.3          0.2  setosa\n",
              "3           4.6          3.1           1.5          0.2  setosa\n",
              "4           5.0          3.6           1.4          0.2  setosa"
            ],
            "text/html": [
              "\n",
              "  <div id=\"df-01e70473-d02b-4658-9c39-2ab70715cfb0\">\n",
              "    <div class=\"colab-df-container\">\n",
              "      <div>\n",
              "<style scoped>\n",
              "    .dataframe tbody tr th:only-of-type {\n",
              "        vertical-align: middle;\n",
              "    }\n",
              "\n",
              "    .dataframe tbody tr th {\n",
              "        vertical-align: top;\n",
              "    }\n",
              "\n",
              "    .dataframe thead th {\n",
              "        text-align: right;\n",
              "    }\n",
              "</style>\n",
              "<table border=\"1\" class=\"dataframe\">\n",
              "  <thead>\n",
              "    <tr style=\"text-align: right;\">\n",
              "      <th></th>\n",
              "      <th>sepal_length</th>\n",
              "      <th>sepal_width</th>\n",
              "      <th>petal_length</th>\n",
              "      <th>petal_width</th>\n",
              "      <th>species</th>\n",
              "    </tr>\n",
              "  </thead>\n",
              "  <tbody>\n",
              "    <tr>\n",
              "      <th>0</th>\n",
              "      <td>5.1</td>\n",
              "      <td>3.5</td>\n",
              "      <td>1.4</td>\n",
              "      <td>0.2</td>\n",
              "      <td>setosa</td>\n",
              "    </tr>\n",
              "    <tr>\n",
              "      <th>1</th>\n",
              "      <td>4.9</td>\n",
              "      <td>3.0</td>\n",
              "      <td>1.4</td>\n",
              "      <td>0.2</td>\n",
              "      <td>setosa</td>\n",
              "    </tr>\n",
              "    <tr>\n",
              "      <th>2</th>\n",
              "      <td>4.7</td>\n",
              "      <td>3.2</td>\n",
              "      <td>1.3</td>\n",
              "      <td>0.2</td>\n",
              "      <td>setosa</td>\n",
              "    </tr>\n",
              "    <tr>\n",
              "      <th>3</th>\n",
              "      <td>4.6</td>\n",
              "      <td>3.1</td>\n",
              "      <td>1.5</td>\n",
              "      <td>0.2</td>\n",
              "      <td>setosa</td>\n",
              "    </tr>\n",
              "    <tr>\n",
              "      <th>4</th>\n",
              "      <td>5.0</td>\n",
              "      <td>3.6</td>\n",
              "      <td>1.4</td>\n",
              "      <td>0.2</td>\n",
              "      <td>setosa</td>\n",
              "    </tr>\n",
              "  </tbody>\n",
              "</table>\n",
              "</div>\n",
              "      <button class=\"colab-df-convert\" onclick=\"convertToInteractive('df-01e70473-d02b-4658-9c39-2ab70715cfb0')\"\n",
              "              title=\"Convert this dataframe to an interactive table.\"\n",
              "              style=\"display:none;\">\n",
              "        \n",
              "  <svg xmlns=\"http://www.w3.org/2000/svg\" height=\"24px\"viewBox=\"0 0 24 24\"\n",
              "       width=\"24px\">\n",
              "    <path d=\"M0 0h24v24H0V0z\" fill=\"none\"/>\n",
              "    <path d=\"M18.56 5.44l.94 2.06.94-2.06 2.06-.94-2.06-.94-.94-2.06-.94 2.06-2.06.94zm-11 1L8.5 8.5l.94-2.06 2.06-.94-2.06-.94L8.5 2.5l-.94 2.06-2.06.94zm10 10l.94 2.06.94-2.06 2.06-.94-2.06-.94-.94-2.06-.94 2.06-2.06.94z\"/><path d=\"M17.41 7.96l-1.37-1.37c-.4-.4-.92-.59-1.43-.59-.52 0-1.04.2-1.43.59L10.3 9.45l-7.72 7.72c-.78.78-.78 2.05 0 2.83L4 21.41c.39.39.9.59 1.41.59.51 0 1.02-.2 1.41-.59l7.78-7.78 2.81-2.81c.8-.78.8-2.07 0-2.86zM5.41 20L4 18.59l7.72-7.72 1.47 1.35L5.41 20z\"/>\n",
              "  </svg>\n",
              "      </button>\n",
              "      \n",
              "  <style>\n",
              "    .colab-df-container {\n",
              "      display:flex;\n",
              "      flex-wrap:wrap;\n",
              "      gap: 12px;\n",
              "    }\n",
              "\n",
              "    .colab-df-convert {\n",
              "      background-color: #E8F0FE;\n",
              "      border: none;\n",
              "      border-radius: 50%;\n",
              "      cursor: pointer;\n",
              "      display: none;\n",
              "      fill: #1967D2;\n",
              "      height: 32px;\n",
              "      padding: 0 0 0 0;\n",
              "      width: 32px;\n",
              "    }\n",
              "\n",
              "    .colab-df-convert:hover {\n",
              "      background-color: #E2EBFA;\n",
              "      box-shadow: 0px 1px 2px rgba(60, 64, 67, 0.3), 0px 1px 3px 1px rgba(60, 64, 67, 0.15);\n",
              "      fill: #174EA6;\n",
              "    }\n",
              "\n",
              "    [theme=dark] .colab-df-convert {\n",
              "      background-color: #3B4455;\n",
              "      fill: #D2E3FC;\n",
              "    }\n",
              "\n",
              "    [theme=dark] .colab-df-convert:hover {\n",
              "      background-color: #434B5C;\n",
              "      box-shadow: 0px 1px 3px 1px rgba(0, 0, 0, 0.15);\n",
              "      filter: drop-shadow(0px 1px 2px rgba(0, 0, 0, 0.3));\n",
              "      fill: #FFFFFF;\n",
              "    }\n",
              "  </style>\n",
              "\n",
              "      <script>\n",
              "        const buttonEl =\n",
              "          document.querySelector('#df-01e70473-d02b-4658-9c39-2ab70715cfb0 button.colab-df-convert');\n",
              "        buttonEl.style.display =\n",
              "          google.colab.kernel.accessAllowed ? 'block' : 'none';\n",
              "\n",
              "        async function convertToInteractive(key) {\n",
              "          const element = document.querySelector('#df-01e70473-d02b-4658-9c39-2ab70715cfb0');\n",
              "          const dataTable =\n",
              "            await google.colab.kernel.invokeFunction('convertToInteractive',\n",
              "                                                     [key], {});\n",
              "          if (!dataTable) return;\n",
              "\n",
              "          const docLinkHtml = 'Like what you see? Visit the ' +\n",
              "            '<a target=\"_blank\" href=https://colab.research.google.com/notebooks/data_table.ipynb>data table notebook</a>'\n",
              "            + ' to learn more about interactive tables.';\n",
              "          element.innerHTML = '';\n",
              "          dataTable['output_type'] = 'display_data';\n",
              "          await google.colab.output.renderOutput(dataTable, element);\n",
              "          const docLink = document.createElement('div');\n",
              "          docLink.innerHTML = docLinkHtml;\n",
              "          element.appendChild(docLink);\n",
              "        }\n",
              "      </script>\n",
              "    </div>\n",
              "  </div>\n",
              "  "
            ]
          },
          "metadata": {},
          "execution_count": 2
        }
      ]
    },
    {
      "cell_type": "markdown",
      "source": [
        "# **Módulo 1 - Medidas de tendência central**\n",
        "As medidas de tendência central são assim denominadas por indicarem um ponto em torno do qual se concentram os dados.\n"
      ],
      "metadata": {
        "id": "tEBUrurmM_vS"
      }
    },
    {
      "cell_type": "markdown",
      "source": [
        "**Média aritmética** <p>\n",
        "A média aritmética (X) é a soma de todos os valores observados da variável dividida pelo número total de observações."
      ],
      "metadata": {
        "id": "Ec_fmfuHNfD8"
      }
    },
    {
      "cell_type": "code",
      "source": [
        "Base_Dados['petal_length'].mean()"
      ],
      "metadata": {
        "colab": {
          "base_uri": "https://localhost:8080/"
        },
        "id": "bT4q6E85Nf6h",
        "outputId": "cd36e583-5736-441c-c85b-3643f6f3a4b6"
      },
      "execution_count": null,
      "outputs": [
        {
          "output_type": "execute_result",
          "data": {
            "text/plain": [
              "3.7580000000000027"
            ]
          },
          "metadata": {},
          "execution_count": 4
        }
      ]
    },
    {
      "cell_type": "markdown",
      "source": [
        "**Moda** <p>\n",
        "A moda (Mo) é o valor que apresenta a maior freqüência da variável entre os valores observados."
      ],
      "metadata": {
        "id": "lQiVrssbNkmK"
      }
    },
    {
      "cell_type": "code",
      "source": [
        "Base_Dados['petal_length'].mode()"
      ],
      "metadata": {
        "colab": {
          "base_uri": "https://localhost:8080/"
        },
        "id": "rLREg9gfNlbs",
        "outputId": "6f8d5fab-1138-4c99-bdb5-4567b37d3805"
      },
      "execution_count": null,
      "outputs": [
        {
          "output_type": "execute_result",
          "data": {
            "text/plain": [
              "0    1.4\n",
              "1    1.5\n",
              "dtype: float64"
            ]
          },
          "metadata": {},
          "execution_count": 5
        }
      ]
    },
    {
      "cell_type": "markdown",
      "source": [
        "**Mediana** <p>\n",
        "A mediana (Md) é o valor que ocupa a posição central da série de observações de uma variável, em rol, dividindo o conjunto em duas partes iguais, ou seja, a quantidade de valores inferiores à mediana é igual à quantidade de valores superiores a mesma. "
      ],
      "metadata": {
        "id": "gYnoOSNbNosy"
      }
    },
    {
      "cell_type": "code",
      "source": [
        "Base_Dados['petal_length'].median()"
      ],
      "metadata": {
        "colab": {
          "base_uri": "https://localhost:8080/"
        },
        "id": "KecfpAZqNpY-",
        "outputId": "e42b02c3-65ec-49e5-de59-dcfb7e062edc"
      },
      "execution_count": null,
      "outputs": [
        {
          "output_type": "execute_result",
          "data": {
            "text/plain": [
              "4.35"
            ]
          },
          "metadata": {},
          "execution_count": 6
        }
      ]
    },
    {
      "cell_type": "markdown",
      "source": [
        "# **Módulo 2 - Medidas Separatrizes** <p>\n",
        "Estas medidas são valores que ocupam posições no conjunto de dados, em rol, dividindo-o\n",
        "em partes iguais e podem ser:\n",
        "1. Quartil: Os quartis dividem o conjunto de dados em quatro partes iguais.\n",
        "![Imagem Quartil.PNG](data:image/png;base64,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)"
      ],
      "metadata": {
        "id": "eGQfBPYoOB4y"
      }
    },
    {
      "cell_type": "code",
      "source": [
        "# Describe\n",
        "Base_Dados['sepal_length'].describe()"
      ],
      "metadata": {
        "colab": {
          "base_uri": "https://localhost:8080/"
        },
        "id": "wSGHZi6IOHf1",
        "outputId": "984295d1-c27d-4b61-c5fa-418c344ff610"
      },
      "execution_count": null,
      "outputs": [
        {
          "output_type": "execute_result",
          "data": {
            "text/plain": [
              "count    150.000000\n",
              "mean       5.843333\n",
              "std        0.828066\n",
              "min        4.300000\n",
              "25%        5.100000\n",
              "50%        5.800000\n",
              "75%        6.400000\n",
              "max        7.900000\n",
              "Name: sepal_length, dtype: float64"
            ]
          },
          "metadata": {},
          "execution_count": 10
        }
      ]
    },
    {
      "cell_type": "code",
      "source": [
        "# Plot do Boxplot\n",
        "sns.boxplot( Base_Dados['sepal_length'] )"
      ],
      "metadata": {
        "colab": {
          "base_uri": "https://localhost:8080/",
          "height": 297
        },
        "id": "nKwfIo4t38MQ",
        "outputId": "55e70289-a02a-46fe-e4f5-a3bec434b459"
      },
      "execution_count": null,
      "outputs": [
        {
          "output_type": "execute_result",
          "data": {
            "text/plain": [
              "<matplotlib.axes._subplots.AxesSubplot at 0x7fa63fce2410>"
            ]
          },
          "metadata": {},
          "execution_count": 11
        },
        {
          "output_type": "display_data",
          "data": {
            "text/plain": [
              "<Figure size 432x288 with 1 Axes>"
            ],
            "image/png": "[encoded data removed]"
          },
          "metadata": {
            "needs_background": "light"
          }
        }
      ]
    },
    {
      "cell_type": "markdown",
      "source": [
        "# **Módulo 3 - Medidas de dispersão** <p>\n",
        " As medidas de dispersão auxiliam as medidas de tendência central a descrever o conjunto de dados adequadamente. Indicam se os dados estão, ou não, próximos uns dos outros."
      ],
      "metadata": {
        "id": "X2OJyP5oOhn0"
      }
    },
    {
      "cell_type": "markdown",
      "source": [
        "**Amplitude Total** <p>\n",
        "A amplitude total de um conjunto de dados é a diferença entre o maior e o menor valor observado."
      ],
      "metadata": {
        "id": "66ExYmY1OyEI"
      }
    },
    {
      "cell_type": "code",
      "source": [
        "Base_Dados['sepal_length'].max() - Base_Dados['sepal_length'].min()"
      ],
      "metadata": {
        "colab": {
          "base_uri": "https://localhost:8080/"
        },
        "id": "rlrcg2kWO127",
        "outputId": "54abe6f5-83b2-48b0-cdc6-2c0e7a5da50c"
      },
      "execution_count": null,
      "outputs": [
        {
          "output_type": "execute_result",
          "data": {
            "text/plain": [
              "3.6000000000000005"
            ]
          },
          "metadata": {},
          "execution_count": 14
        }
      ]
    },
    {
      "cell_type": "markdown",
      "source": [
        "**Amplitude Interquartílica** <p>\n",
        "A amplitude interquartílica é a diferença entre o terceiro e o primeiro quartil. Esta medida é mais estável que a amplitude total por não considerar os valores mais extremos"
      ],
      "metadata": {
        "id": "7Iu0Cx5gO7mr"
      }
    },
    {
      "cell_type": "code",
      "source": [
        "Base_Dados['sepal_length'].describe()[6:7].values - Base_Dados['sepal_length'].describe()[4:5].values"
      ],
      "metadata": {
        "colab": {
          "base_uri": "https://localhost:8080/"
        },
        "id": "3BmHWGwdPLv2",
        "outputId": "148d02ab-7eaa-4a5f-b21e-d8af9e8125da"
      },
      "execution_count": null,
      "outputs": [
        {
          "output_type": "execute_result",
          "data": {
            "text/plain": [
              "array([1.3])"
            ]
          },
          "metadata": {},
          "execution_count": 18
        }
      ]
    },
    {
      "cell_type": "markdown",
      "source": [
        "**Amplitude semi-interquartílica** <p>\n",
        "A amplitude semi-interquartílica é definida como a média aritmética da\n",
        "diferença entre a mediana e os quartis."
      ],
      "metadata": {
        "id": "y-XS71QvTesy"
      }
    },
    {
      "cell_type": "code",
      "source": [
        "(Base_Dados['sepal_length'].describe()[6:7].values - Base_Dados['sepal_length'].describe()[4:5].values) / 2"
      ],
      "metadata": {
        "colab": {
          "base_uri": "https://localhost:8080/"
        },
        "id": "X-7bGlcLTnpS",
        "outputId": "553ca05a-8d83-4fb5-bd33-c0f65d10911f"
      },
      "execution_count": null,
      "outputs": [
        {
          "output_type": "execute_result",
          "data": {
            "text/plain": [
              "array([0.65])"
            ]
          },
          "metadata": {},
          "execution_count": 19
        }
      ]
    },
    {
      "cell_type": "markdown",
      "source": [
        "**Variância** <p> Uma medida de dispersão que mostra quão distantes os valores estão da média\n"
      ],
      "metadata": {
        "id": "4wFQMhJAPOZq"
      }
    },
    {
      "cell_type": "code",
      "source": [
        "Base_Dados['sepal_length'].var()"
      ],
      "metadata": {
        "colab": {
          "base_uri": "https://localhost:8080/"
        },
        "id": "YmUAqiQmPkEj",
        "outputId": "49f741a6-c72a-4aa0-e27e-4fffaab33dda"
      },
      "execution_count": null,
      "outputs": [
        {
          "output_type": "execute_result",
          "data": {
            "text/plain": [
              "0.6856935123042505"
            ]
          },
          "metadata": {},
          "execution_count": 20
        }
      ]
    },
    {
      "cell_type": "markdown",
      "source": [
        "**Desvio padrão** <p>\n",
        "é simplesmente o resultado positivo da raiz quadrada da variância. "
      ],
      "metadata": {
        "id": "O2l2uPUXPDyE"
      }
    },
    {
      "cell_type": "code",
      "source": [
        "Base_Dados['sepal_length'].std()"
      ],
      "metadata": {
        "colab": {
          "base_uri": "https://localhost:8080/"
        },
        "id": "n6r0F5j8QDMx",
        "outputId": "f18f02ac-fb53-42dc-8864-2cea295712fc"
      },
      "execution_count": null,
      "outputs": [
        {
          "output_type": "execute_result",
          "data": {
            "text/plain": [
              "0.8280661279778629"
            ]
          },
          "metadata": {},
          "execution_count": 21
        }
      ]
    },
    {
      "cell_type": "markdown",
      "source": [
        "**Medidas de Assimetria** <p> \n",
        "A medida de assimetria é um indicador da forma da distribuição dos dados. Ao construir uma distribuição de freqüências e/ou um histograma, está-se buscando, também, identificar visualmente, a forma da distribuição dos dados"
      ],
      "metadata": {
        "id": "2c_6IxVLQMn4"
      }
    },
    {
      "cell_type": "markdown",
      "source": [
        "![Assimetria.PNG](data:image/png;base64,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)"
      ],
      "metadata": {
        "id": "Pty6aYr7QnnH"
      }
    },
    {
      "cell_type": "markdown",
      "source": [
        "**Simétrica** se média = mediana = moda ou As = 0 <p>\n",
        "**Assimétrica** negativa se média ≤ mediana ≤ moda As < 0 <p>\n",
        "**Assimétrica** positiva se moda ≤ mediana ≤ média ou As > 0"
      ],
      "metadata": {
        "id": "FTrynDG4QwuB"
      }
    },
    {
      "cell_type": "code",
      "source": [
        "Base_Dados['sepal_length'].skew()"
      ],
      "metadata": {
        "colab": {
          "base_uri": "https://localhost:8080/"
        },
        "id": "I_tBG1G3QYbz",
        "outputId": "5e6f23bb-19af-4fba-c1de-88dcd4467294"
      },
      "execution_count": null,
      "outputs": [
        {
          "output_type": "execute_result",
          "data": {
            "text/plain": [
              "0.3149109566369728"
            ]
          },
          "metadata": {},
          "execution_count": 22
        }
      ]
    },
    {
      "cell_type": "code",
      "source": [
        "sns.kdeplot( Base_Dados['sepal_length'] );"
      ],
      "metadata": {
        "colab": {
          "base_uri": "https://localhost:8080/",
          "height": 280
        },
        "id": "ul6tGd-CUP8B",
        "outputId": "0f9eb541-fabb-4c7f-a74d-45047ecf5ad9"
      },
      "execution_count": null,
      "outputs": [
        {
          "output_type": "display_data",
          "data": {
            "text/plain": [
              "<Figure size 432x288 with 1 Axes>"
            ],
            "image/png": "[encoded data removed]"
          },
          "metadata": {
            "needs_background": "light"
          }
        }
      ]
    },
    {
      "cell_type": "markdown",
      "source": [
        "**Medidas de Curtose** <p>\n",
        "A medida de curtose é o grau de achatamento da distribuição, é um indicador da forma desta distribuição"
      ],
      "metadata": {
        "id": "1mHIddDsREdH"
      }
    },
    {
      "cell_type": "markdown",
      "source": [
        "![Curtose.PNG](data:image/png;base64,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)"
      ],
      "metadata": {
        "id": "pLUXPnXaRRPT"
      }
    },
    {
      "cell_type": "markdown",
      "source": [
        "**Leptocúrtica**: quando a distribuição apresenta uma curva de freqüência bastante fechada, com os dados fortemente concentrados em torno de seu centro, K < 0,263. <p>\n",
        "**Mesocúrtica**: quando os dados estão razoavelmente concentrados em torno de seu centro, K= 0,263 <p>\n",
        "**Platicúrtica**: quando a distribuição apresenta uma curva de freqüência mais aberta, com os dados fracamente concentrados em torno de seu centro, K > 0,263. "
      ],
      "metadata": {
        "id": "HwRF2PXPRMH1"
      }
    },
    {
      "cell_type": "code",
      "source": [
        "Base_Dados['sepal_length'].kurtosis()"
      ],
      "metadata": {
        "colab": {
          "base_uri": "https://localhost:8080/"
        },
        "id": "nKCaeQrGRIRU",
        "outputId": "5f318146-0799-4456-e40a-927afeb56a89"
      },
      "execution_count": null,
      "outputs": [
        {
          "output_type": "execute_result",
          "data": {
            "text/plain": [
              "-0.5520640413156395"
            ]
          },
          "metadata": {},
          "execution_count": 24
        }
      ]
    },
    {
      "cell_type": "markdown",
      "source": [
        "# **Módulo 4 - Correlação** <p>\n",
        "**Quando fazer análise de correlação?** <p>\n",
        "Quando você tem uma hipótese de que o aumento ou queda em uma variável estão associados à evolução de outra variável, por exemplo, se aumentar o desconto, as vendas também aumentam."
      ],
      "metadata": {
        "id": "f3U0TIioR3_x"
      }
    },
    {
      "cell_type": "markdown",
      "source": [
        "**Correlação de Pearson**\n",
        "<p>\n",
        "O coeficiente de correlação de Pearson pode ter um intervalo de valores de +1 a -1. Um valor de 0 indica que não há associação entre as duas variáveis. Um valor maior que 0 indica uma associação positiva. Isto é, à medida que o valor de uma variável aumenta, o mesmo acontece com o valor da outra variável. Um valor menor que 0 indica uma associação negativa. Isto é, à medida que o valor de uma variável aumenta, o valor da outra diminui."
      ],
      "metadata": {
        "id": "OgXc-wkoVKjc"
      }
    },
    {
      "cell_type": "code",
      "source": [
        "Base_Dados.corr()"
      ],
      "metadata": {
        "colab": {
          "base_uri": "https://localhost:8080/",
          "height": 174
        },
        "id": "7gJftolKVN3W",
        "outputId": "47b875fe-0551-45fe-a898-8573484d2c72"
      },
      "execution_count": null,
      "outputs": [
        {
          "output_type": "execute_result",
          "data": {
            "text/plain": [
              "              sepal_length  sepal_width  petal_length  petal_width\n",
              "sepal_length      1.000000    -0.117570      0.871754     0.817941\n",
              "sepal_width      -0.117570     1.000000     -0.428440    -0.366126\n",
              "petal_length      0.871754    -0.428440      1.000000     0.962865\n",
              "petal_width       0.817941    -0.366126      0.962865     1.000000"
            ],
            "text/html": [
              "\n",
              "  <div id=\"df-49435406-9a0a-41da-b86c-23aed69a9b73\">\n",
              "    <div class=\"colab-df-container\">\n",
              "      <div>\n",
              "<style scoped>\n",
              "    .dataframe tbody tr th:only-of-type {\n",
              "        vertical-align: middle;\n",
              "    }\n",
              "\n",
              "    .dataframe tbody tr th {\n",
              "        vertical-align: top;\n",
              "    }\n",
              "\n",
              "    .dataframe thead th {\n",
              "        text-align: right;\n",
              "    }\n",
              "</style>\n",
              "<table border=\"1\" class=\"dataframe\">\n",
              "  <thead>\n",
              "    <tr style=\"text-align: right;\">\n",
              "      <th></th>\n",
              "      <th>sepal_length</th>\n",
              "      <th>sepal_width</th>\n",
              "      <th>petal_length</th>\n",
              "      <th>petal_width</th>\n",
              "    </tr>\n",
              "  </thead>\n",
              "  <tbody>\n",
              "    <tr>\n",
              "      <th>sepal_length</th>\n",
              "      <td>1.000000</td>\n",
              "      <td>-0.117570</td>\n",
              "      <td>0.871754</td>\n",
              "      <td>0.817941</td>\n",
              "    </tr>\n",
              "    <tr>\n",
              "      <th>sepal_width</th>\n",
              "      <td>-0.117570</td>\n",
              "      <td>1.000000</td>\n",
              "      <td>-0.428440</td>\n",
              "      <td>-0.366126</td>\n",
              "    </tr>\n",
              "    <tr>\n",
              "      <th>petal_length</th>\n",
              "      <td>0.871754</td>\n",
              "      <td>-0.428440</td>\n",
              "      <td>1.000000</td>\n",
              "      <td>0.962865</td>\n",
              "    </tr>\n",
              "    <tr>\n",
              "      <th>petal_width</th>\n",
              "      <td>0.817941</td>\n",
              "      <td>-0.366126</td>\n",
              "      <td>0.962865</td>\n",
              "      <td>1.000000</td>\n",
              "    </tr>\n",
              "  </tbody>\n",
              "</table>\n",
              "</div>\n",
              "      <button class=\"colab-df-convert\" onclick=\"convertToInteractive('df-49435406-9a0a-41da-b86c-23aed69a9b73')\"\n",
              "              title=\"Convert this dataframe to an interactive table.\"\n",
              "              style=\"display:none;\">\n",
              "        \n",
              "  <svg xmlns=\"http://www.w3.org/2000/svg\" height=\"24px\"viewBox=\"0 0 24 24\"\n",
              "       width=\"24px\">\n",
              "    <path d=\"M0 0h24v24H0V0z\" fill=\"none\"/>\n",
              "    <path d=\"M18.56 5.44l.94 2.06.94-2.06 2.06-.94-2.06-.94-.94-2.06-.94 2.06-2.06.94zm-11 1L8.5 8.5l.94-2.06 2.06-.94-2.06-.94L8.5 2.5l-.94 2.06-2.06.94zm10 10l.94 2.06.94-2.06 2.06-.94-2.06-.94-.94-2.06-.94 2.06-2.06.94z\"/><path d=\"M17.41 7.96l-1.37-1.37c-.4-.4-.92-.59-1.43-.59-.52 0-1.04.2-1.43.59L10.3 9.45l-7.72 7.72c-.78.78-.78 2.05 0 2.83L4 21.41c.39.39.9.59 1.41.59.51 0 1.02-.2 1.41-.59l7.78-7.78 2.81-2.81c.8-.78.8-2.07 0-2.86zM5.41 20L4 18.59l7.72-7.72 1.47 1.35L5.41 20z\"/>\n",
              "  </svg>\n",
              "      </button>\n",
              "      \n",
              "  <style>\n",
              "    .colab-df-container {\n",
              "      display:flex;\n",
              "      flex-wrap:wrap;\n",
              "      gap: 12px;\n",
              "    }\n",
              "\n",
              "    .colab-df-convert {\n",
              "      background-color: #E8F0FE;\n",
              "      border: none;\n",
              "      border-radius: 50%;\n",
              "      cursor: pointer;\n",
              "      display: none;\n",
              "      fill: #1967D2;\n",
              "      height: 32px;\n",
              "      padding: 0 0 0 0;\n",
              "      width: 32px;\n",
              "    }\n",
              "\n",
              "    .colab-df-convert:hover {\n",
              "      background-color: #E2EBFA;\n",
              "      box-shadow: 0px 1px 2px rgba(60, 64, 67, 0.3), 0px 1px 3px 1px rgba(60, 64, 67, 0.15);\n",
              "      fill: #174EA6;\n",
              "    }\n",
              "\n",
              "    [theme=dark] .colab-df-convert {\n",
              "      background-color: #3B4455;\n",
              "      fill: #D2E3FC;\n",
              "    }\n",
              "\n",
              "    [theme=dark] .colab-df-convert:hover {\n",
              "      background-color: #434B5C;\n",
              "      box-shadow: 0px 1px 3px 1px rgba(0, 0, 0, 0.15);\n",
              "      filter: drop-shadow(0px 1px 2px rgba(0, 0, 0, 0.3));\n",
              "      fill: #FFFFFF;\n",
              "    }\n",
              "  </style>\n",
              "\n",
              "      <script>\n",
              "        const buttonEl =\n",
              "          document.querySelector('#df-49435406-9a0a-41da-b86c-23aed69a9b73 button.colab-df-convert');\n",
              "        buttonEl.style.display =\n",
              "          google.colab.kernel.accessAllowed ? 'block' : 'none';\n",
              "\n",
              "        async function convertToInteractive(key) {\n",
              "          const element = document.querySelector('#df-49435406-9a0a-41da-b86c-23aed69a9b73');\n",
              "          const dataTable =\n",
              "            await google.colab.kernel.invokeFunction('convertToInteractive',\n",
              "                                                     [key], {});\n",
              "          if (!dataTable) return;\n",
              "\n",
              "          const docLinkHtml = 'Like what you see? Visit the ' +\n",
              "            '<a target=\"_blank\" href=https://colab.research.google.com/notebooks/data_table.ipynb>data table notebook</a>'\n",
              "            + ' to learn more about interactive tables.';\n",
              "          element.innerHTML = '';\n",
              "          dataTable['output_type'] = 'display_data';\n",
              "          await google.colab.output.renderOutput(dataTable, element);\n",
              "          const docLink = document.createElement('div');\n",
              "          docLink.innerHTML = docLinkHtml;\n",
              "          element.appendChild(docLink);\n",
              "        }\n",
              "      </script>\n",
              "    </div>\n",
              "  </div>\n",
              "  "
            ]
          },
          "metadata": {},
          "execution_count": 30
        }
      ]
    },
    {
      "cell_type": "code",
      "source": [
        "sns.heatmap( Base_Dados.corr(), annot=True )"
      ],
      "metadata": {
        "colab": {
          "base_uri": "https://localhost:8080/",
          "height": 287
        },
        "id": "NIKrYl_5VQCg",
        "outputId": "826b3c4b-ee3b-4d10-de07-274d4cc697ae"
      },
      "execution_count": null,
      "outputs": [
        {
          "output_type": "execute_result",
          "data": {
            "text/plain": [
              "<matplotlib.axes._subplots.AxesSubplot at 0x7f480b468f10>"
            ]
          },
          "metadata": {},
          "execution_count": 32
        },
        {
          "output_type": "display_data",
          "data": {
            "text/plain": [
              "<Figure size 432x288 with 2 Axes>"
            ],
            "image/png": "[encoded data removed]"
          },
          "metadata": {
            "needs_background": "light"
          }
        }
      ]
    },
    {
      "cell_type": "code",
      "source": [
        "sns.scatterplot( data=Base_Dados, x='petal_length', y='petal_width')"
      ],
      "metadata": {
        "colab": {
          "base_uri": "https://localhost:8080/",
          "height": 297
        },
        "id": "PlNneYN6Vqem",
        "outputId": "53d5b09f-ae39-4c2f-8dc1-0c6c68e7791d"
      },
      "execution_count": null,
      "outputs": [
        {
          "output_type": "execute_result",
          "data": {
            "text/plain": [
              "<matplotlib.axes._subplots.AxesSubplot at 0x7f480b37a210>"
            ]
          },
          "metadata": {},
          "execution_count": 34
        },
        {
          "output_type": "display_data",
          "data": {
            "text/plain": [
              "<Figure size 432x288 with 1 Axes>"
            ],
            "image/png": "[encoded data removed]"
          },
          "metadata": {
            "needs_background": "light"
          }
        }
      ]
    },
    {
      "cell_type": "markdown",
      "source": [
        "**Correlação de Spearman** <p>\n",
        "Uma vez que a correlação de Spearman segue uma lógica monotética, e não tem pressupostos lineares como na correlação de Pearson, é possível utilizar o rs para relações não lineares"
      ],
      "metadata": {
        "id": "KI_pm54cV2gh"
      }
    },
    {
      "cell_type": "markdown",
      "source": [
        "![spearman.png](data:image/png;base64,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)"
      ],
      "metadata": {
        "id": "g13AaHWvWFhw"
      }
    },
    {
      "cell_type": "code",
      "source": [
        "Base_Dados.corr('spearman')"
      ],
      "metadata": {
        "colab": {
          "base_uri": "https://localhost:8080/",
          "height": 174
        },
        "id": "WWMGE5vAWVKc",
        "outputId": "3cfb33f2-f10c-4c6e-c7ca-6279daad72d3"
      },
      "execution_count": null,
      "outputs": [
        {
          "output_type": "execute_result",
          "data": {
            "text/plain": [
              "              sepal_length  sepal_width  petal_length  petal_width\n",
              "sepal_length      1.000000    -0.166778      0.881898     0.834289\n",
              "sepal_width      -0.166778     1.000000     -0.309635    -0.289032\n",
              "petal_length      0.881898    -0.309635      1.000000     0.937667\n",
              "petal_width       0.834289    -0.289032      0.937667     1.000000"
            ],
            "text/html": [
              "\n",
              "  <div id=\"df-43017bb7-e161-4b12-a915-14cf87a850e2\">\n",
              "    <div class=\"colab-df-container\">\n",
              "      <div>\n",
              "<style scoped>\n",
              "    .dataframe tbody tr th:only-of-type {\n",
              "        vertical-align: middle;\n",
              "    }\n",
              "\n",
              "    .dataframe tbody tr th {\n",
              "        vertical-align: top;\n",
              "    }\n",
              "\n",
              "    .dataframe thead th {\n",
              "        text-align: right;\n",
              "    }\n",
              "</style>\n",
              "<table border=\"1\" class=\"dataframe\">\n",
              "  <thead>\n",
              "    <tr style=\"text-align: right;\">\n",
              "      <th></th>\n",
              "      <th>sepal_length</th>\n",
              "      <th>sepal_width</th>\n",
              "      <th>petal_length</th>\n",
              "      <th>petal_width</th>\n",
              "    </tr>\n",
              "  </thead>\n",
              "  <tbody>\n",
              "    <tr>\n",
              "      <th>sepal_length</th>\n",
              "      <td>1.000000</td>\n",
              "      <td>-0.166778</td>\n",
              "      <td>0.881898</td>\n",
              "      <td>0.834289</td>\n",
              "    </tr>\n",
              "    <tr>\n",
              "      <th>sepal_width</th>\n",
              "      <td>-0.166778</td>\n",
              "      <td>1.000000</td>\n",
              "      <td>-0.309635</td>\n",
              "      <td>-0.289032</td>\n",
              "    </tr>\n",
              "    <tr>\n",
              "      <th>petal_length</th>\n",
              "      <td>0.881898</td>\n",
              "      <td>-0.309635</td>\n",
              "      <td>1.000000</td>\n",
              "      <td>0.937667</td>\n",
              "    </tr>\n",
              "    <tr>\n",
              "      <th>petal_width</th>\n",
              "      <td>0.834289</td>\n",
              "      <td>-0.289032</td>\n",
              "      <td>0.937667</td>\n",
              "      <td>1.000000</td>\n",
              "    </tr>\n",
              "  </tbody>\n",
              "</table>\n",
              "</div>\n",
              "      <button class=\"colab-df-convert\" onclick=\"convertToInteractive('df-43017bb7-e161-4b12-a915-14cf87a850e2')\"\n",
              "              title=\"Convert this dataframe to an interactive table.\"\n",
              "              style=\"display:none;\">\n",
              "        \n",
              "  <svg xmlns=\"http://www.w3.org/2000/svg\" height=\"24px\"viewBox=\"0 0 24 24\"\n",
              "       width=\"24px\">\n",
              "    <path d=\"M0 0h24v24H0V0z\" fill=\"none\"/>\n",
              "    <path d=\"M18.56 5.44l.94 2.06.94-2.06 2.06-.94-2.06-.94-.94-2.06-.94 2.06-2.06.94zm-11 1L8.5 8.5l.94-2.06 2.06-.94-2.06-.94L8.5 2.5l-.94 2.06-2.06.94zm10 10l.94 2.06.94-2.06 2.06-.94-2.06-.94-.94-2.06-.94 2.06-2.06.94z\"/><path d=\"M17.41 7.96l-1.37-1.37c-.4-.4-.92-.59-1.43-.59-.52 0-1.04.2-1.43.59L10.3 9.45l-7.72 7.72c-.78.78-.78 2.05 0 2.83L4 21.41c.39.39.9.59 1.41.59.51 0 1.02-.2 1.41-.59l7.78-7.78 2.81-2.81c.8-.78.8-2.07 0-2.86zM5.41 20L4 18.59l7.72-7.72 1.47 1.35L5.41 20z\"/>\n",
              "  </svg>\n",
              "      </button>\n",
              "      \n",
              "  <style>\n",
              "    .colab-df-container {\n",
              "      display:flex;\n",
              "      flex-wrap:wrap;\n",
              "      gap: 12px;\n",
              "    }\n",
              "\n",
              "    .colab-df-convert {\n",
              "      background-color: #E8F0FE;\n",
              "      border: none;\n",
              "      border-radius: 50%;\n",
              "      cursor: pointer;\n",
              "      display: none;\n",
              "      fill: #1967D2;\n",
              "      height: 32px;\n",
              "      padding: 0 0 0 0;\n",
              "      width: 32px;\n",
              "    }\n",
              "\n",
              "    .colab-df-convert:hover {\n",
              "      background-color: #E2EBFA;\n",
              "      box-shadow: 0px 1px 2px rgba(60, 64, 67, 0.3), 0px 1px 3px 1px rgba(60, 64, 67, 0.15);\n",
              "      fill: #174EA6;\n",
              "    }\n",
              "\n",
              "    [theme=dark] .colab-df-convert {\n",
              "      background-color: #3B4455;\n",
              "      fill: #D2E3FC;\n",
              "    }\n",
              "\n",
              "    [theme=dark] .colab-df-convert:hover {\n",
              "      background-color: #434B5C;\n",
              "      box-shadow: 0px 1px 3px 1px rgba(0, 0, 0, 0.15);\n",
              "      filter: drop-shadow(0px 1px 2px rgba(0, 0, 0, 0.3));\n",
              "      fill: #FFFFFF;\n",
              "    }\n",
              "  </style>\n",
              "\n",
              "      <script>\n",
              "        const buttonEl =\n",
              "          document.querySelector('#df-43017bb7-e161-4b12-a915-14cf87a850e2 button.colab-df-convert');\n",
              "        buttonEl.style.display =\n",
              "          google.colab.kernel.accessAllowed ? 'block' : 'none';\n",
              "\n",
              "        async function convertToInteractive(key) {\n",
              "          const element = document.querySelector('#df-43017bb7-e161-4b12-a915-14cf87a850e2');\n",
              "          const dataTable =\n",
              "            await google.colab.kernel.invokeFunction('convertToInteractive',\n",
              "                                                     [key], {});\n",
              "          if (!dataTable) return;\n",
              "\n",
              "          const docLinkHtml = 'Like what you see? Visit the ' +\n",
              "            '<a target=\"_blank\" href=https://colab.research.google.com/notebooks/data_table.ipynb>data table notebook</a>'\n",
              "            + ' to learn more about interactive tables.';\n",
              "          element.innerHTML = '';\n",
              "          dataTable['output_type'] = 'display_data';\n",
              "          await google.colab.output.renderOutput(dataTable, element);\n",
              "          const docLink = document.createElement('div');\n",
              "          docLink.innerHTML = docLinkHtml;\n",
              "          element.appendChild(docLink);\n",
              "        }\n",
              "      </script>\n",
              "    </div>\n",
              "  </div>\n",
              "  "
            ]
          },
          "metadata": {},
          "execution_count": 36
        }
      ]
    },
    {
      "cell_type": "code",
      "source": [
        "sns.heatmap( Base_Dados.corr( 'spearman' ), annot=True )"
      ],
      "metadata": {
        "colab": {
          "base_uri": "https://localhost:8080/",
          "height": 287
        },
        "id": "5WFIdwRXWeTv",
        "outputId": "5402aadd-40d8-4956-cf4e-a602aa2462ad"
      },
      "execution_count": null,
      "outputs": [
        {
          "output_type": "execute_result",
          "data": {
            "text/plain": [
              "<matplotlib.axes._subplots.AxesSubplot at 0x7f480b2088d0>"
            ]
          },
          "metadata": {},
          "execution_count": 37
        },
        {
          "output_type": "display_data",
          "data": {
            "text/plain": [
              "<Figure size 432x288 with 2 Axes>"
            ],
            "image/png": "[encoded data removed]"
          },
          "metadata": {
            "needs_background": "light"
          }
        }
      ]
    },
    {
      "cell_type": "code",
      "source": [
        "sns.scatterplot( data=Base_Dados, x='sepal_length', y='petal_width')"
      ],
      "metadata": {
        "colab": {
          "base_uri": "https://localhost:8080/",
          "height": 297
        },
        "id": "nmEY2S8nWEic",
        "outputId": "a682ebe1-e30a-46ff-8014-8e56d4c24c6f"
      },
      "execution_count": null,
      "outputs": [
        {
          "output_type": "execute_result",
          "data": {
            "text/plain": [
              "<matplotlib.axes._subplots.AxesSubplot at 0x7f480b2ea150>"
            ]
          },
          "metadata": {},
          "execution_count": 35
        },
        {
          "output_type": "display_data",
          "data": {
            "text/plain": [
              "<Figure size 432x288 with 1 Axes>"
            ],
            "image/png": "[encoded data removed]"
          },
          "metadata": {
            "needs_background": "light"
          }
        }
      ]
    },
    {
      "cell_type": "code",
      "source": [
        ""
      ],
      "metadata": {
        "id": "U-fY5kl-WRlK"
      },
      "execution_count": null,
      "outputs": []
    }
  ]
}