{
  "nbformat": 4,
  "nbformat_minor": 0,
  "metadata": {
    "colab": {
      "name": "01 - Programação Python.ipynb",
      "provenance": [],
      "collapsed_sections": [],
      "include_colab_link": true
    },
    "kernelspec": {
      "name": "python3",
      "display_name": "Python 3"
    },
    "language_info": {
      "name": "python"
    }
  },
  "cells": [
    {
      "cell_type": "markdown",
      "metadata": {
        "id": "view-in-github",
        "colab_type": "text"
      },
      "source": [
        "<a href=\"https://colab.research.google.com/github/kamila-polizelo/python-para-analise-de-dados/blob/main/01_Programa%C3%A7%C3%A3o_Python.ipynb\" target=\"_parent\"><img src=\"https://colab.research.google.com/assets/colab-badge.svg\" alt=\"Open In Colab\"/></a>"
      ]
    },
    {
      "cell_type": "markdown",
      "source": [
        "# **Ciência de Dados para Finanças** <p>\n",
        "**por: @Odemir Depieri Jr** - [Linkedin](https://www.linkedin.com/in/odemir-depieri-jr/) <p>\n",
        "**por: @Ronisson Lucas Calmon da Conceição** - [Linkedin](https://www.linkedin.com/in/ronisson-lucas-calmon-da-concei%C3%A7%C3%A3o-7aa884202/) <p>\n",
        "[Página do Curso](https://)\n"
      ],
      "metadata": {
        "id": "u1elsrD7TWdZ"
      }
    },
    {
      "cell_type": "markdown",
      "source": [
        "# Módulo 1 - Programação em Python"
      ],
      "metadata": {
        "id": "uVOvB9KvVa0U"
      }
    },
    {
      "cell_type": "markdown",
      "source": [
        "Nesse módulo vamos estudar a sintaxe nativa do Python. <p>\n",
        "\n",
        "**O que é Python?** <p>\n",
        "Python é uma linguagem de programação popular.Foi criado por Guido van Rossum e lançado em 1991.\n",
        "\n",
        "**Python pode ser usado para:**\n",
        "\n",
        "1.   Inteligência Artificial;\n",
        "2.   Machine Learning;\n",
        "3.   Desenvolvimento de Software;\n",
        "4.   Desenvolvimento de aplicativos;\n",
        "5.   Automações (RPA);\n",
        "6.   IoT (internet das coisas);\n",
        "7.   Muitas outras.\n",
        "\n",
        "\n",
        "\n",
        "\n",
        "\n"
      ],
      "metadata": {
        "id": "8YZaousxV4_h"
      }
    },
    {
      "cell_type": "markdown",
      "source": [
        "# **1. - Sintaxe básica** <p>\n",
        "Podemos utilziar ' ' (aspas simples) <p>\n",
        "Podemos utilziar \" \" (aspas duplas) <p>\n",
        "Utilizando o \\n para pular uma linha na impressão do valor <p>\n",
        "Usamos o hastgag # para comentar algo"
      ],
      "metadata": {
        "id": "LeLUmWFPXSQ4"
      }
    },
    {
      "cell_type": "code",
      "source": [
        "# Sintaxe básica\n",
        "print('Olá Mundão!!! \\n')\n",
        "print(\"Olá Mundão!!!\")"
      ],
      "metadata": {
        "colab": {
          "base_uri": "https://localhost:8080/"
        },
        "id": "6b6jsk5fNIk4",
        "outputId": "f68324e6-28a0-4d2c-9699-02d47f4650be"
      },
      "execution_count": null,
      "outputs": [
        {
          "output_type": "stream",
          "name": "stdout",
          "text": [
            "Olá Mundão!!! \n",
            "\n",
            "Olá Mundão!!!\n"
          ]
        }
      ]
    },
    {
      "cell_type": "markdown",
      "source": [
        "#2 . - Operadores matemáticos <p>\n",
        "Os operadores são usados ​​para realizar operações em variáveis ​​e valores:\n",
        "1. Soma\n",
        "2. Subtração\n",
        "3. Multiplicação\n",
        "4. Divisão\n",
        "5. Exponenciação\n",
        "6. Resto da Divisão\n",
        "7. Divisão de Chão\n",
        "\n",
        "\n",
        "\n"
      ],
      "metadata": {
        "id": "YUdY6RPMX9QN"
      }
    },
    {
      "cell_type": "code",
      "source": [
        "# Operadores para cálculos\n",
        "Soma = 1 + 2\n",
        "Subtração = 1 - 1\n",
        "Multiplicação = 2 * 10\n",
        "Divisão = 10 / 2\n",
        "Exponenciação = 2 ** 2\n",
        "Resto_Divisao = 9 % 4\n",
        "Divisao_Chão = 9 // 4\n",
        "\n",
        "# Print formatado\n",
        "print( 'Somar:{}'.format(Soma) ) \n",
        "print( 'Subtração:', Subtração ) \n",
        "print( f'Multiplacação: {Multiplicação}' )\n",
        "\n",
        "print( 'Divisão', Divisão ) \n",
        "print( 'Exponenciação: {}' .format(Exponenciação) )\n",
        "print( 'Resto_Divisao', Resto_Divisao )\n",
        "print( 'Divisao_Chão: {}'.format(Divisao_Chão) )\n",
        "print( 'Varios elementos: {}, {}, {}'.format(Soma, Subtração, Divisão) )"
      ],
      "metadata": {
        "id": "wtpWfqbHmwGr",
        "colab": {
          "base_uri": "https://localhost:8080/"
        },
        "outputId": "ec4284a1-31fd-44c2-8148-1bc6cdd89f09"
      },
      "execution_count": null,
      "outputs": [
        {
          "output_type": "stream",
          "name": "stdout",
          "text": [
            "Somar:3\n",
            "Subtração: 0\n",
            "Multiplacação: 20\n",
            "Divisão 5.0\n",
            "Exponenciação: 4\n",
            "Resto_Divisao 1\n",
            "Divisao_Chão: 2\n",
            "Varios elementos: 3, 0, 5.0\n"
          ]
        }
      ]
    },
    {
      "cell_type": "markdown",
      "source": [
        "# 3º Variáveis\n",
        "Variáveis ​​são contêineres para armazenar valores de dados.<p>\n",
        "Uma variável é criada no momento em que você atribui um valor a ela."
      ],
      "metadata": {
        "id": "4eGEIiIoZ5dd"
      }
    },
    {
      "cell_type": "code",
      "source": [
        "# Tipos de Variaveis\n",
        "Inteiro_Exemplo_1 = int ( 100 )\n",
        "Inteiro_Exemplo_2 = 100\n",
        "\n",
        "Flutuante_Exemplo_1 = 10.50\n",
        "Flutuante_Exemplo_2 = float( 10.50 )\n",
        "\n",
        "Palavra_Exemplo_1 = 'Qualquer Palavra'\n",
        "Palavra_Exemplo_2 = str( 'Qualquer Palavra' )\n",
        "\n",
        "Booleando_Exemplo_1 = True \n",
        "Booleando_Exemplo_2 = False\n",
        "\n",
        "print( Inteiro_Exemplo_1, Inteiro_Exemplo_2, '\\n' )\n",
        "print( Flutuante_Exemplo_1, Flutuante_Exemplo_2, '\\n' )\n",
        "print( Palavra_Exemplo_1, Palavra_Exemplo_2, '\\n' )\n",
        "print( Booleando_Exemplo_1, Booleando_Exemplo_2, '\\n' )"
      ],
      "metadata": {
        "id": "GYqhWYcVZ71Z",
        "colab": {
          "base_uri": "https://localhost:8080/"
        },
        "outputId": "a04da33d-8a00-44dc-80ae-854ad100572b"
      },
      "execution_count": null,
      "outputs": [
        {
          "output_type": "stream",
          "name": "stdout",
          "text": [
            "100 100 \n",
            "\n",
            "10.5 10.5 \n",
            "\n",
            "Qualquer Palavra Qualquer Palavra \n",
            "\n",
            "True False \n",
            "\n"
          ]
        }
      ]
    },
    {
      "cell_type": "markdown",
      "source": [
        "# **4º Tipos de Dados**\n",
        "1. Listas - São criadas usando [ ] (Colchetes)\n",
        "2. Tuplas - São criadas usando ( ) (Parenteses)\n",
        "3. Dicionários - São criadas usando { } (Chaves) <p>\n",
        "Esses tipos de dados podem receber qualquer tipo de informação, inclusive Operações Aritméticas"
      ],
      "metadata": {
        "id": "EsEsPiS1cGBs"
      }
    },
    {
      "cell_type": "code",
      "source": [
        "# Tipos de Dados\n",
        "Lista_Exemplo_1 = [1, 2, 3, 4, 5]\n",
        "Lista_Exemplo_2 = ['Nome', 'Quarto', 'Morango', 4, 5]\n",
        "Lista_Exemplo_3 = [1, 'Quarto', True, False]\n",
        "\n",
        "# Tuplas são imutaveis (Não modifica)\n",
        "Tupla_Exemplo_1 = ( 2, 3, 4, 6 )\n",
        "Tupla_Exemplo_2 = ( 'Odemir', 'Depieri', 4 )\n",
        "\n",
        "# Dicionário são para organizar os dados (Chave, Valor)\n",
        "Dicionario = { 'Nome':'Odemir', 'Idade':29 }\n",
        "\n",
        "print( Lista_Exemplo_1 )\n",
        "print( Lista_Exemplo_2 )\n",
        "print( Lista_Exemplo_3, '\\n' )\n",
        "\n",
        "print( Tupla_Exemplo_1 )\n",
        "print( Tupla_Exemplo_2, '\\n' )\n",
        "\n",
        "print( Dicionario )"
      ],
      "metadata": {
        "colab": {
          "base_uri": "https://localhost:8080/"
        },
        "id": "vGLvKYkpqPpJ",
        "outputId": "f5feccc1-f0e9-4356-fb1c-3f105ee90eaf"
      },
      "execution_count": null,
      "outputs": [
        {
          "output_type": "stream",
          "name": "stdout",
          "text": [
            "[1, 2, 3, 4, 5]\n",
            "['Nome', 'Quarto', 'Morango', 4, 5]\n",
            "[1, 'Quarto', True, False] \n",
            "\n",
            "(2, 3, 4, 6)\n",
            "('Odemir', 'Depieri', 4) \n",
            "\n",
            "{'Nome': 'Odemir', 'Idade': 29}\n"
          ]
        }
      ]
    },
    {
      "cell_type": "markdown",
      "source": [
        "# 5º Nomeação de variáveis <p>\n",
        "Podemos nomear variáveis e tipos de dados de diversas formas:\n",
        "1. Declarar as variáveis em uma única linha de comando;\n",
        "2. Atribuir um valor à diversas variáveis;\n",
        "3. Declarar usando uma Lista;\n",
        "4. Combinar variáveis;\n",
        "5. Operar com operadores matemáticos;\n",
        "6. Muitos outros.\n",
        "\n"
      ],
      "metadata": {
        "id": "vTq_Y3g5dao5"
      }
    },
    {
      "cell_type": "code",
      "source": [
        "# Nomeando Variaveis | Exemplo 1\n",
        "Laranja, Melão, Limão = 1, 2, 3\n",
        "print( Laranja, Melão, Limão, '\\n' )\n",
        "\n",
        "# Nomeando Variaveis | Exemplo 2\n",
        "Morango = Uva = Kiwi = 100\n",
        "print( Morango, Uva, Kiwi, '\\n' )\n",
        "\n",
        "# Nomeando Variaveis | Exemplo 3\n",
        "# Criando uma lista\n",
        "Carros = ['VW', 'GM', 'Ford']\n",
        "\n",
        "# Nomeando as variaveis com a lista\n",
        "Marca_01, Marca_02, Marca_03 = Carros\n",
        "print( Marca_03, '\\n' )\n",
        "\n",
        "# Combinando Variaveis | Exemplo 1\n",
        "Nome = 'Odemir'\n",
        "Sobrenome = 'Depieri'\n",
        "Nome_Completo = Nome + ' ' + Sobrenome\n",
        "print( Nome_Completo, '\\n' )\n",
        "\n",
        "# Combinando Variaveis | Exemplo 2\n",
        "Dolar = 5.40\n",
        "Imposto = 0.20\n",
        "Valor_Liquido = Dolar - ( Dolar * Imposto )\n",
        "print( Valor_Liquido )"
      ],
      "metadata": {
        "id": "S0Y8IKn_svfV",
        "colab": {
          "base_uri": "https://localhost:8080/"
        },
        "outputId": "cea395cc-9584-4548-a72a-56675f70e92b"
      },
      "execution_count": null,
      "outputs": [
        {
          "output_type": "stream",
          "name": "stdout",
          "text": [
            "1 2 3 \n",
            "\n",
            "100 100 100 \n",
            "\n",
            "Ford \n",
            "\n",
            "Odemir Depieri \n",
            "\n",
            "4.32\n"
          ]
        }
      ]
    },
    {
      "cell_type": "markdown",
      "source": [
        "# **6º Tipo da Informação**\n",
        "Na programação, o tipo de dados é um conceito importante.\n",
        "Variáveis ​​podem armazenar dados de diferentes tipos, e diferentes tipos podem fazer coisas diferentes.\n",
        "O Python tem os seguintes tipos de dados integrados por padrão, nestas categorias:\n",
        "1. Text Type: *str*\n",
        "2. Numeric Types:\t*int*, *float*, *complex*\n",
        "3. Sequence Types:\t*list*, *tuple*, *range*\n",
        "4. Mapping Type:\t*dict*\n",
        "5. Set Types:\t*set*, *frozenset*\n",
        "6. Boolean Type:\t*bool*\n",
        "7. Binary Types:\t*bytes*, *bytearray*, *memoryview*\n",
        "\n"
      ],
      "metadata": {
        "id": "4H9ud-NqrKE8"
      }
    },
    {
      "cell_type": "code",
      "source": [
        "# Criando tipos de informações\n",
        "String = str('Olá Mundo!')\n",
        "Inteiro = int(10)\n",
        "Flutuante = float(10.99)\n",
        "Complex = complex(1j)\n",
        "Lista = list( ('Maça', 'Morango', 'Pera') )\n",
        "Tupla = tuple( ('Maça', 'Morango', 'Pera') )\n",
        "Range = range(6)\n",
        "Dicionario = dict(nome='Odemir', age=29)\n",
        "Set = set( ('Maça', 'Morango', 'Pera') )\n",
        "Fronzet = frozenset( ('Maça', 'Morango', 'Pera') )\n",
        "Boleano = bool(5)\n",
        "Bytes = bytes(5)\n",
        "ByteArray = bytearray(5)\n",
        "Memoryview = memoryview( bytes(5) )\n",
        "\n",
        "from datetime import datetime\n",
        "Data = datetime.today().date()\n",
        "\n",
        "# Mostrando os Valores\n",
        "print( type(String) )\n",
        "print( type(Inteiro) )\n",
        "print( type(Flutuante) )\n",
        "print( type(Complex) )\n",
        "print( type(Lista) )\n",
        "print( type(Tupla) )\n",
        "print( type(Range) )\n",
        "print( type(Dicionario) )\n",
        "print( type(Set) )\n",
        "print( type(Fronzet) )\n",
        "print( type(Boleano) )\n",
        "print( type(Bytes) )\n",
        "print( type(ByteArray) )\n",
        "print( type(Memoryview) )\n",
        "print( type(Data) )"
      ],
      "metadata": {
        "colab": {
          "base_uri": "https://localhost:8080/"
        },
        "id": "O0U8I7KargzY",
        "outputId": "14708e39-9e5d-4eb9-d769-0f397d5ed0c0"
      },
      "execution_count": null,
      "outputs": [
        {
          "output_type": "stream",
          "name": "stdout",
          "text": [
            "<class 'str'>\n",
            "<class 'int'>\n",
            "<class 'float'>\n",
            "<class 'complex'>\n",
            "<class 'list'>\n",
            "<class 'tuple'>\n",
            "<class 'range'>\n",
            "<class 'dict'>\n",
            "<class 'set'>\n",
            "<class 'frozenset'>\n",
            "<class 'bool'>\n",
            "<class 'bytes'>\n",
            "<class 'bytearray'>\n",
            "<class 'memoryview'>\n",
            "<class 'datetime.date'>\n"
          ]
        }
      ]
    },
    {
      "cell_type": "markdown",
      "source": [
        "# **7º Comando Round**\n",
        "Quando trabalhamos com números flutuantes, podemos arredondar o valor usando um comando nativo do Python<p>\n",
        "\n",
        "round( valor, número de casas)"
      ],
      "metadata": {
        "id": "_vyTISBrt9BD"
      }
    },
    {
      "cell_type": "code",
      "source": [
        "# Comando Round\n",
        "# Metodo round, arredonda valores\n",
        "\n",
        "Valor_Exemplo = 12.123456789\n",
        "\n",
        "print( round( Valor_Exemplo, 1 ) )\n",
        "print( round( Valor_Exemplo, 2 ) )\n",
        "print( round( Valor_Exemplo, 3 ) )\n",
        "print( round( Valor_Exemplo, 5 ) )"
      ],
      "metadata": {
        "id": "rKndFOr9WvP9",
        "colab": {
          "base_uri": "https://localhost:8080/"
        },
        "outputId": "aa537fdc-d323-4ac8-f4a9-68e91099d8b8"
      },
      "execution_count": null,
      "outputs": [
        {
          "output_type": "stream",
          "name": "stdout",
          "text": [
            "12.1\n",
            "12.12\n",
            "12.123\n",
            "12.12346\n"
          ]
        }
      ]
    },
    {
      "cell_type": "markdown",
      "source": [
        "# **8º Comando Len**\n",
        "A função len() retorna a quantidade de elementos de qualquer lista em Python, essa é mais uma função built-in e disponível em qualquer parte dos nossos códigos."
      ],
      "metadata": {
        "id": "nXb3f4OXv1VQ"
      }
    },
    {
      "cell_type": "code",
      "source": [
        "Lista = [1, 2, 3, 4, 5]\n",
        "Dicionario = { 'Nome':'Odemir', 'Idade':29, 'Vip':False }\n",
        "Tupla = (10, 20)\n",
        "String = 'Olá Mundão!'\n",
        "\n",
        "print( len(Lista) )\n",
        "print( len(Dicionario) )\n",
        "print( len(Tupla) )\n",
        "print( len(String) )"
      ],
      "metadata": {
        "id": "KVx_s9BywBh6",
        "colab": {
          "base_uri": "https://localhost:8080/"
        },
        "outputId": "4aa77deb-fb7a-436c-c1aa-38c52f935daa"
      },
      "execution_count": null,
      "outputs": [
        {
          "output_type": "stream",
          "name": "stdout",
          "text": [
            "5\n",
            "3\n",
            "2\n",
            "11\n"
          ]
        }
      ]
    },
    {
      "cell_type": "code",
      "source": [
        ""
      ],
      "metadata": {
        "id": "tSvbfD-WXjH8"
      },
      "execution_count": null,
      "outputs": []
    },
    {
      "cell_type": "markdown",
      "source": [
        "# **9º Fatiamento de Strings**\n",
        "Strings são listas de bytes represetando caracteres.<p>\n",
        "Podemos acessar suas posições usando Colchetes<p>\n",
        "String [Posição Inicial: Posição Final]"
      ],
      "metadata": {
        "id": "UC0xUa3UurIW"
      }
    },
    {
      "cell_type": "code",
      "source": [
        "# Strings\n",
        "Minha_String = 'Aprender python é Top!'\n",
        "print( type(Minha_String) )\n",
        "print( len(Minha_String) )\n",
        "\n",
        "print( Minha_String[0] )\n",
        "print( Minha_String[5] )\n",
        "print( Minha_String[-1] )\n",
        "print( Minha_String[-10:] )\n",
        "print( Minha_String[0:10] )"
      ],
      "metadata": {
        "colab": {
          "base_uri": "https://localhost:8080/"
        },
        "id": "lWcimolMu3ag",
        "outputId": "35c77c0d-77f3-4c0f-97a4-792d0930fa69"
      },
      "execution_count": null,
      "outputs": [
        {
          "output_type": "stream",
          "name": "stdout",
          "text": [
            "<class 'str'>\n",
            "22\n",
            "A\n",
            "d\n",
            "!\n",
            "hon é Top!\n",
            "Aprender p\n"
          ]
        }
      ]
    },
    {
      "cell_type": "markdown",
      "source": [
        "# **10° Manipulação de Strings**<p>\n",
        "Um tipo de dados bastante usado no dia a dia são as strings, ou cadeias de caracteres (ou sequências de caracteres). O tipo de dados string, ou str como é chamado em Python, possui várias operações úteis associadas a ele. Essas operações tornam Python uma linguagem bastante propícia para manipulação de textos.\n",
        "Algumas funções mais utilizadas:\n",
        "\n",
        "1. replace()\n",
        "2. startswith()\n",
        "3. endswith()\n",
        "4. count()\n",
        "5. capitalize()\n",
        "6. isdigit()\n",
        "7. isalnum()\n",
        "8. upper()\n",
        "9. lower()\n",
        "10. find ()\n",
        "11. strip()\n",
        "12. split()\n"
      ],
      "metadata": {
        "id": "IF8GdirtxBrk"
      }
    },
    {
      "cell_type": "code",
      "source": [
        "# Imprimindo uma string.\n",
        "String = 'Olá Mundão!'\n",
        "print( String )\n",
        "\n",
        "# Tipo de uma string.\n",
        "print( type( String ) )\n",
        "\n",
        "# Tamanho de uma string.\n",
        "print( len( String ) )\n",
        "\n",
        "# Concatenação\n",
        "print( String + ' Estou aprendendo Python...' )\n",
        "\n",
        "# Substitui uma substring por alguma outra coisa.\n",
        "Substituir = String.replace('Mundão', 'Mundo Louco :X')\n",
        "print( Substituir )\n",
        "\n",
        "# A string s começa com \"Olá\"?\n",
        "print( String.startswith('Olá') )\n",
        "\n",
        "# A string termina com \"mundo\"?\n",
        "print( String.endswith('mundo') )\n",
        "\n",
        "# Quantas ocorrências da palavra \"a\" a string possui?\n",
        "print( String.count('M') )\n",
        "\n",
        "# Capitalize - Transformar a primeira letra da primeira palavra em maiúscula.\n",
        "String_02 = 'odemir depieri'\n",
        "print( String_02.capitalize() )\n",
        "\n",
        "# Verificar se uma string só possui números.\n",
        "String_03 = '123456789'\n",
        "String_04 = '123456789ABC'\n",
        "print( String_03.isdigit() )\n",
        "print( String_04.isdigit() )\n",
        "\n",
        "# Verificar se uma string é alfanumérica (só possui letras e números).\n",
        "print( '12345abc'.isalnum() )\n",
        "\n",
        "# Transformar tudo em Maiusculo\n",
        "print( String.upper() )\n",
        "\n",
        "# Transformar tudo em Minúsculo\n",
        "print( String.lower() )\n",
        "\n",
        "# Procurar algo na string\n",
        "print( String.find('!') )\n",
        "\n",
        "# Removendo espaçoes antes e fim da palavra\n",
        "String_05 =' Olá Mundão! '\n",
        "print( String_05.strip() )\n",
        "\n",
        "# Removendo espaçoes antes e fim da palavra\n",
        "String_06 ='Loja 1 vendou 10, Loja 2 vendou 20, Loja 3 vendou 30 '\n",
        "print( String_06.split(',') )"
      ],
      "metadata": {
        "colab": {
          "base_uri": "https://localhost:8080/"
        },
        "id": "-umu50oqxM54",
        "outputId": "e0c86327-b194-4080-8188-37b4da462dcd"
      },
      "execution_count": null,
      "outputs": [
        {
          "output_type": "stream",
          "name": "stdout",
          "text": [
            "Olá Mundão!\n",
            "<class 'str'>\n",
            "11\n",
            "Olá Mundão! Estou aprendendo Python...\n",
            "Olá Mundo Louco :X!\n",
            "True\n",
            "False\n",
            "1\n",
            "Odemir depieri\n",
            "True\n",
            "False\n",
            "True\n",
            "OLÁ MUNDÃO!\n",
            "olá mundão!\n",
            "10\n",
            "Olá Mundão!\n",
            "['Loja 1 vendou 10', ' Loja 2 vendou 20', ' Loja 3 vendou 30 ']\n"
          ]
        }
      ]
    },
    {
      "cell_type": "markdown",
      "source": [
        "# **11º Comando Input**\n",
        "A função input() recebe como parâmetro uma string que será mostrada como auxílio ao usuário, geralmente o informando que tipo de dado o programa está aguardando receber.\n",
        "\n",
        "input()"
      ],
      "metadata": {
        "id": "HGzNUJkJ2N7C"
      }
    },
    {
      "cell_type": "code",
      "source": [
        "# Comando input\n",
        "# Enviar uma informação momentânea\n",
        "\n",
        "Nome = input('Qual seu nome? ')\n",
        "Idade = input('Quantos anos você tem? ')\n",
        "\n",
        "print('Seu nome é:', Nome)\n",
        "print('Sua idade:', Idade)"
      ],
      "metadata": {
        "colab": {
          "base_uri": "https://localhost:8080/"
        },
        "id": "sksQdzKGiL5P",
        "outputId": "33632c11-2b20-40bb-9d81-49db6c4f9120"
      },
      "execution_count": null,
      "outputs": [
        {
          "output_type": "stream",
          "name": "stdout",
          "text": [
            "Qual seu nome? Odemir\n",
            "Quantos anos você tem? 29\n",
            "Seu nome é: Odemir\n",
            "Sua idade: 29\n"
          ]
        }
      ]
    },
    {
      "cell_type": "markdown",
      "source": [
        "# **12º Operadores de Comparação**\n",
        "Os operadores de comparação são usados ​​para comparar dois valores:\n",
        "1. '==' ( Igual a )\n",
        "2. '!=' ( Diferente )\n",
        "3. '>' ( Maior )\n",
        "4. '<' ( Menor )\n",
        "5. '>=' ( Maior igual )\n",
        "6. '<=' ( Menor igual )"
      ],
      "metadata": {
        "id": "F9_PeEHo7qKT"
      }
    },
    {
      "cell_type": "code",
      "source": [
        "# Operadores de Comparações - Parte 1\n",
        "Igual = '=='\n",
        "Diferente = '!='\n",
        "Maior = '>'\n",
        "Maior_Igual = '>='\n",
        "Menor = '<'\n",
        "Menor_Igual = '<='\n",
        "\n",
        "print('8 é maior que 7:', 8 > 7 )\n",
        "print('8 é menor que 7:', 8 < 7 )\n",
        "print('8 é igual 7:', 8 == 7 )\n",
        "print('10 é maior 10:', 10 > 10 )\n",
        "print('10 é maior ou igual à 10:', 10 >= 10 )\n",
        "print('10 é menor 10:', 10 < 10 )\n",
        "print('10 é menor ou igual à 10:', 10 <= 10 )"
      ],
      "metadata": {
        "id": "8AGM8GIlkGlM",
        "colab": {
          "base_uri": "https://localhost:8080/"
        },
        "outputId": "4e321f2e-50de-4c56-8186-2ff7902fedbb"
      },
      "execution_count": null,
      "outputs": [
        {
          "output_type": "stream",
          "name": "stdout",
          "text": [
            "8 é maior que 7: True\n",
            "8 é menor que 7: False\n",
            "8 é igual 7: False\n",
            "10 é maior 10: False\n",
            "10 é maior ou igual à 10: True\n",
            "10 é menor 10: False\n",
            "10 é menor ou igual à 10: True\n"
          ]
        }
      ]
    },
    {
      "cell_type": "markdown",
      "source": [
        "# **13º Operadores Lógicos**\n",
        "Os operadores lógicos são usados ​​para combinar instruções condicionais:\n",
        "1. and (Retorna True se ambas as declarações forem verdadeiras)\n",
        "2. or (Retorna True se uma das declarações for verdadeira)"
      ],
      "metadata": {
        "id": "6Lqd3mrZ8UtD"
      }
    },
    {
      "cell_type": "code",
      "source": [
        "# Operadores de Comparações - Parte 2\n",
        "And = 'and'\n",
        "Ou = 'or'\n",
        "Negação = 'not'\n",
        "\n",
        "print('8 é maior que 7 e 7 maior que 8:', 8 > 7 and 7 > 8 )\n",
        "print('8 é maior que 7 e 7 menor que 8:', 8 > 7 and 7 < 8 )\n",
        "print('8 é maior que 7 ou 7 menor que 8:', 8 == 7 or 7 == 8 )\n",
        "print('8 é maior que 7 ou 7 menor que 8:', 8 > 7 or 7 > 8 )"
      ],
      "metadata": {
        "colab": {
          "base_uri": "https://localhost:8080/"
        },
        "id": "xntWZ8vN8RkN",
        "outputId": "1dc18ce8-2c00-4cab-aa81-91a421f3a548"
      },
      "execution_count": null,
      "outputs": [
        {
          "output_type": "stream",
          "name": "stdout",
          "text": [
            "8 é maior que 7 e 7 maior que 8: False\n",
            "8 é maior que 7 e 7 menor que 8: True\n",
            "8 é maior que 7 ou 7 menor que 8: False\n",
            "8 é maior que 7 ou 7 menor que 8: True\n"
          ]
        }
      ]
    },
    {
      "cell_type": "markdown",
      "source": [
        "# **14º Operadores de Identidade**\n",
        "Os operadores de identidade são usados ​​para comparar os objetos, não se forem iguais, mas se forem realmente o mesmo objeto, com a mesma localização de memória:\n",
        "1. is (Retorna True se ambas as variáveis ​​forem o mesmo objeto)\n",
        "2. is not (Retorna True se ambas as variáveis ​​não forem o mesmo objeto)"
      ],
      "metadata": {
        "id": "52wZm8e68wSF"
      }
    },
    {
      "cell_type": "code",
      "source": [
        "String_01 = str('Olá Mundão')\n",
        "String_02 = str('Olá Mundão')\n",
        "\n",
        "print( String_01 is String_01 )\n",
        "print( String_01 is String_02 )\n",
        "print( String_01 == String_02 )\n",
        "print( type(String_01) is type(String_02) )"
      ],
      "metadata": {
        "id": "Mx3XYI8LnSfK",
        "colab": {
          "base_uri": "https://localhost:8080/"
        },
        "outputId": "f3a1bdd6-3b17-426d-ae04-7c00f43c20bf"
      },
      "execution_count": null,
      "outputs": [
        {
          "output_type": "stream",
          "name": "stdout",
          "text": [
            "True\n",
            "False\n",
            "True\n",
            "True\n"
          ]
        }
      ]
    },
    {
      "cell_type": "markdown",
      "source": [
        "# **15º Operadores de Associação**\n",
        "Os operadores de associação são usados ​​para testar se uma sequência é apresentada em um objeto:\n",
        "1. in (Retorna True se uma sequência com o valor especificado estiver presente no objeto)\n",
        "2. not in (Retorna True se uma sequência com o valor especificado não estiver presente no objeto)"
      ],
      "metadata": {
        "id": "RrCYnXRI89b_"
      }
    },
    {
      "cell_type": "code",
      "source": [
        "Lista_Ações = ['Magalu', 'Via', 'Assai', 'Carrefour']\n",
        "\n",
        "print( 'Via' in Lista_Ações )\n",
        "print( 'Via' not in Lista_Ações )"
      ],
      "metadata": {
        "id": "OJ9-UYrU9Jfl",
        "colab": {
          "base_uri": "https://localhost:8080/"
        },
        "outputId": "40af4cec-20e2-4fac-c415-f99b75f8a505"
      },
      "execution_count": null,
      "outputs": [
        {
          "output_type": "stream",
          "name": "stdout",
          "text": [
            "True\n",
            "False\n"
          ]
        }
      ]
    },
    {
      "cell_type": "markdown",
      "source": [
        "# **16º Manipulando Listas**\n",
        "As listas são usadas para armazenar vários itens em uma única variável.\n",
        "\n",
        "As listas são um dos 4 tipos de dados internos do Python usados ​​para armazenar coleções de dados, os outros 3 são Tuple , Set e Dictionary , todos com qualidades e usos diferentes.<p>\n",
        "Comandos mais utilizados:\n",
        "1. append() - Para adicionar um item ao final da lista\n",
        "2. len() - Calcular o tamanho da lista\n",
        "3. [  ] - Acessar posições\n",
        "4. del() - Exlcuir um elemtno\n",
        "5. clear() - Limpar a lista\n",
        "6. insert() - Para inserir um item de lista em um índice especificado\n",
        "7. extend() - Anexar elementos de outra lista à lista atual\n",
        "8. remove() - Remove o item especificado\n",
        "9. pop() - Remove o índice especificado.\n",
        "10. sort() - Ordenar os valores\n",
        "11. copy() - Faz uma copia da Lista\n",
        "12. index() - Retorna o index do elemento da lista"
      ],
      "metadata": {
        "id": "DbMZYX6S_Fwb"
      }
    },
    {
      "cell_type": "code",
      "source": [
        "# Manipulando dados dentro das Lista\n",
        "Lista_Vazia = []\n",
        "print('Lista antes:', Lista_Vazia, '\\n' )\n",
        "\n",
        "# Inserindo valores na Lista\n",
        "Lista_Vazia.append(1)\n",
        "Lista_Vazia.append(2)\n",
        "Lista_Vazia.append(3)\n",
        "print('Lista Depois:', Lista_Vazia, '\\n' )\n",
        "\n",
        "# Tamanho da lista\n",
        "print('Lista contém:', len(Lista_Vazia), 'elementos', '\\n' )\n",
        "\n",
        "# Tamanho da lista\n",
        "print('Acessando o 1º Elemento:', Lista_Vazia[0] )\n",
        "print('Acessando o 2º Elemento:', Lista_Vazia[1] )\n",
        "print('Acessando o último Elemento:', Lista_Vazia[-1] )\n",
        "print('Acessando um periodo:', Lista_Vazia[0:2], '\\n' )\n",
        "\n",
        "# Excluindo valor na lista\n",
        "del Lista_Vazia[1]\n",
        "print('Depois da exclusão:', Lista_Vazia, '\\n' )\n",
        "\n",
        "# Limpando a lista\n",
        "print('Depois da Limpeza:', Lista_Vazia.clear(), '\\n' )\n",
        "\n",
        "# Inserindo um valor com uma posição\n",
        "Lista_Inserir = ['Posição 1', 'Posição 2', 'Posição 3']\n",
        "Lista_Inserir.insert( 0, 'Posição 4' )\n",
        "print( Lista_Inserir, '\\n' )\n",
        "\n",
        "# Inserindo uma lista na outra\n",
        "Lista_Inserir_01 = ['Posição 1', 'Posição 2', 'Posição 3']\n",
        "Lista_Inserir_02 = ['Posição 4', 'Posição 5', 'Posição 6']\n",
        "Lista_Inserir_01.extend( Lista_Inserir_02 )\n",
        "print( Lista_Inserir_01, '\\n' )\n",
        "\n",
        "# Removendo itens especifico pelo nome\n",
        "Lista_Inserir_01.remove('Posição 6')\n",
        "print( Lista_Inserir_01, '\\n' )\n",
        "\n",
        "# Removendo itens pelo index\n",
        "Lista_Inserir_01.pop(0)\n",
        "print( Lista_Inserir_01, '\\n' )\n",
        "\n",
        "# Ordenar uma lista\n",
        "Lista_Alfabetica = ['Z', 'C', 'A', 'B', 'L']\n",
        "Lista_Alfabetica.sort()\n",
        "print( Lista_Alfabetica, '\\n' )\n",
        "\n",
        "# Ordenar uma lista de forma inversa\n",
        "Lista_Alfabetica.sort( reverse=True )\n",
        "print( Lista_Alfabetica, '\\n' )\n",
        "\n",
        "# Copiar uma Lista\n",
        "Lista_Alfabetica_02 = Lista_Alfabetica.copy()\n",
        "print( Lista_Alfabetica_02, '\\n' )\n",
        "\n",
        "# Indetificar o Index do elemtno na lista\n",
        "print( Lista_Alfabetica_02.index('L'), '\\n' )"
      ],
      "metadata": {
        "colab": {
          "base_uri": "https://localhost:8080/"
        },
        "id": "UxlQ-8s--7bN",
        "outputId": "5807d543-9593-4cfc-b0ca-ba1d304a6f66"
      },
      "execution_count": null,
      "outputs": [
        {
          "output_type": "stream",
          "name": "stdout",
          "text": [
            "Lista antes: [] \n",
            "\n",
            "Lista Depois: [1, 2, 3] \n",
            "\n",
            "Lista contém: 3 elementos \n",
            "\n",
            "Acessando o 1º Elemento: 1\n",
            "Acessando o 2º Elemento: 2\n",
            "Acessando o último Elemento: 3\n",
            "Acessando um periodo: [1, 2] \n",
            "\n",
            "Depois da exclusão: [1, 3] \n",
            "\n",
            "Depois da Limpeza: None \n",
            "\n",
            "['Posição 4', 'Posição 1', 'Posição 2', 'Posição 3'] \n",
            "\n",
            "['Posição 1', 'Posição 2', 'Posição 3', 'Posição 4', 'Posição 5', 'Posição 6'] \n",
            "\n",
            "['Posição 1', 'Posição 2', 'Posição 3', 'Posição 4', 'Posição 5'] \n",
            "\n",
            "['Posição 2', 'Posição 3', 'Posição 4', 'Posição 5'] \n",
            "\n",
            "['A', 'B', 'C', 'L', 'Z'] \n",
            "\n",
            "['Z', 'L', 'C', 'B', 'A'] \n",
            "\n",
            "['Z', 'L', 'C', 'B', 'A'] \n",
            "\n",
            "1 \n",
            "\n"
          ]
        }
      ]
    },
    {
      "cell_type": "markdown",
      "source": [
        "# **17º Pacote Externo - Datetime**\n",
        "O datetime módulo fornece classes para manipulação de datas e horas.\n"
      ],
      "metadata": {
        "id": "tlAQIqszEgDi"
      }
    },
    {
      "cell_type": "code",
      "source": [
        "import datetime\n",
        "\n",
        "# Dia de Hoje\n",
        "Dia_Hoje = datetime.datetime.today().date()\n",
        "print( f'Hoje é: {Dia_Hoje} \\n' )\n",
        "\n",
        "# Construindo uma Data\n",
        "Data = datetime.date(2020, 10, 1)\n",
        "print( f'Construindo uma Data {Data} \\n' )\n",
        "\n",
        "# Acessando os atributos da DAta\n",
        "Ano = Data.year\n",
        "Mes = Data.month\n",
        "Dia = Data.day\n",
        "print(f'Hoje é dia {Dia} do mês {Mes} do ano de {Ano} \\n')\n",
        "\n",
        "# Operação\n",
        "Intervalo = Data - Dia_Hoje\n",
        "print(f'Já ocorreu {Intervalo} dias \\n' )\n",
        "\n",
        "# Ajustando o formato\n",
        "Novo_Formato = Dia_Hoje.strftime('%d/%m/%y')\n",
        "print( f'Hoje é: {Novo_Formato} \\n' )\n",
        "\n",
        "# Aumentar dias ou diminuir\n",
        "print( f'Somando 30 dias, {Dia_Hoje + datetime.timedelta(days = 30)}' )\n",
        "print( f'Diminuindo 30 dias, {Dia_Hoje - datetime.timedelta(days = 30)}' )"
      ],
      "metadata": {
        "colab": {
          "base_uri": "https://localhost:8080/"
        },
        "id": "TMa8Z54aEwlP",
        "outputId": "f14f4523-3f75-4777-e6db-b4eaabcd2f6c"
      },
      "execution_count": null,
      "outputs": [
        {
          "output_type": "stream",
          "name": "stdout",
          "text": [
            "Hoje é: 2022-03-15 \n",
            "\n",
            "Construindo uma Data 2020-10-01 \n",
            "\n",
            "Hoje é dia 1 do mês 10 do ano de 2020 \n",
            "\n",
            "Já ocorreu -530 days, 0:00:00 dias \n",
            "\n",
            "Hoje é: 15/03/22 \n",
            "\n",
            "Somando 30 dias, 2022-04-14\n",
            "Diminuindo 30 dias, 2022-02-13\n"
          ]
        }
      ]
    },
    {
      "cell_type": "markdown",
      "source": [
        "# **18° Pacote Externo - Time**\n",
        "Este módulo fornece várias funções relacionadas ao tempo"
      ],
      "metadata": {
        "id": "AkzpmFB37MR-"
      }
    },
    {
      "cell_type": "code",
      "source": [
        "# Importar a Lib\n",
        "import time\n",
        "\n",
        "print('Esse print foi rápido!')\n",
        "time.sleep(2.5)\n",
        "print('Esse print aconteceu depois de 2.5 segundos \\n')\n",
        "\n",
        "# Capturar o local agora\n",
        "Agora = time.localtime()\n",
        "print( type(Agora) )\n",
        "print( Agora )\n",
        "print( time.strftime('%m/%d/%Y, %H:%M:%S', Agora ), '\\n' )\n",
        "\n",
        "# Converter uma string para time\n",
        "Time_Texto = '21 June, 2018'\n",
        "Conversao = time.strptime(Time_Texto, '%d %B, %Y')\n",
        "print(Conversao)"
      ],
      "metadata": {
        "id": "g7Ru0a446HCj",
        "colab": {
          "base_uri": "https://localhost:8080/"
        },
        "outputId": "c6c53ca8-4e34-4967-a894-ddc7ae0c69cc"
      },
      "execution_count": null,
      "outputs": [
        {
          "output_type": "stream",
          "name": "stdout",
          "text": [
            "Esse print foi rápido!\n",
            "Esse print aconteceu depois de 2.5 segundos \n",
            "\n",
            "<class 'time.struct_time'>\n",
            "time.struct_time(tm_year=2022, tm_mon=3, tm_mday=15, tm_hour=11, tm_min=3, tm_sec=36, tm_wday=1, tm_yday=74, tm_isdst=0)\n",
            "03/15/2022, 11:03:36 \n",
            "\n",
            "time.struct_time(tm_year=2018, tm_mon=6, tm_mday=21, tm_hour=0, tm_min=0, tm_sec=0, tm_wday=3, tm_yday=172, tm_isdst=-1)\n"
          ]
        }
      ]
    },
    {
      "cell_type": "markdown",
      "source": [
        "# 19º Pacote Externo - Math\n",
        "**negrito**O Python possui um conjunto de funções matemáticas integradas, incluindo um extenso módulo matemático, que permite realizar tarefas matemáticas em números."
      ],
      "metadata": {
        "id": "4bG8pLZYINAF"
      }
    },
    {
      "cell_type": "code",
      "source": [
        "import math\n",
        "\n",
        "# Sem necessidade do math\n",
        "\n",
        "# Minino e Maximo\n",
        "Tupla = (10, 15, 5, 8, 20)\n",
        "print( min(Tupla) )\n",
        "print( max(Tupla) )\n",
        "\n",
        "# ABS  retorna o valor absoluto (positivo) do número especificado\n",
        "print( abs(-7.25) )\n",
        "\n",
        "# Retorna a potencia (seria o msm que 3 * 3 * 3 * 3)\n",
        "print( pow(3, 4) )\n",
        "\n",
        "# Raiz quadrada\n",
        "Raiz_Quadrada = math.sqrt( 81 )\n",
        "print( Raiz_Quadrada )\n",
        "\n",
        "# Arrendondamento\n",
        "\n",
        "# Arredonda um número para cima até o número inteiro mais próximo\n",
        "print( math.ceil(1.4) )\n",
        "\n",
        "# Arredonda um número para baixo até o número inteiro mais próximo\n",
        "print( math.floor(1.4) )\n",
        "\n",
        "# retorna o numero de PI\n",
        "print( math.pi )"
      ],
      "metadata": {
        "colab": {
          "base_uri": "https://localhost:8080/"
        },
        "id": "MYZhJucuIQNP",
        "outputId": "670dd942-0d0a-4f4e-8a73-a9c1d397c02c"
      },
      "execution_count": null,
      "outputs": [
        {
          "output_type": "stream",
          "name": "stdout",
          "text": [
            "5\n",
            "20\n",
            "7.25\n",
            "81\n",
            "9.0\n",
            "2\n",
            "1\n",
            "3.141592653589793\n"
          ]
        }
      ]
    },
    {
      "cell_type": "markdown",
      "source": [
        "# **20° Pacote Externo - Random**\n",
        "Este módulo implementa geradores de números pseudo-aleatórios para várias distribuições."
      ],
      "metadata": {
        "id": "evGNmtIZ9j_b"
      }
    },
    {
      "cell_type": "code",
      "source": [
        "# import random\n",
        "import random\n",
        " \n",
        "# Lista numerico\n",
        "Lista_Numerica = [1, 2, 3, 4, 5, 6]\n",
        "print(f'O número sorteado foi: {random.choice(Lista_Numerica)} \\n')\n",
        " \n",
        "# Sortear uma letra da palavra\n",
        "Palavra = 'Odemir'\n",
        "print(f'A Letra sorteada foi: {random.choice(Palavra)} \\n')\n",
        "\n",
        "# Numero aleatorio entre 0 e 1\n",
        "Numero_Aleatorio = random.random()\n",
        "print(f'O Numero gerado foi: {Numero_Aleatorio} \\n')\n",
        "\n",
        "Numero_Aleatorio_01 = random.randint(0, 10)\n",
        "print(f'Número aleatorio entre 1 e 10 foi: {Numero_Aleatorio_01}')"
      ],
      "metadata": {
        "colab": {
          "base_uri": "https://localhost:8080/"
        },
        "id": "6m8tC8-J8dJU",
        "outputId": "edd02b7a-e248-4cf3-a45e-14fcecf7429a"
      },
      "execution_count": null,
      "outputs": [
        {
          "output_type": "stream",
          "name": "stdout",
          "text": [
            "O número sorteado foi: 5 \n",
            "\n",
            "A Letra sorteada foi: O \n",
            "\n",
            "O Numero gerado foi: 0.6298082881277355 \n",
            "\n",
            "Número aleatorio entre 1 e 10 foi: 1\n"
          ]
        }
      ]
    },
    {
      "cell_type": "markdown",
      "source": [
        "# **21° Pacote Externo - Statistics**\n",
        "Este módulo fornece funções para calcular estatísticas matemáticas de dados numéricos e interage com as listas"
      ],
      "metadata": {
        "id": "_ItJifJkCggh"
      }
    },
    {
      "cell_type": "code",
      "source": [
        "# Importando a Statistics para operar nas listas\n",
        "import statistics\n",
        "\n",
        "# Retirando a média\n",
        "Media = statistics.mean( [1, 2, 3, 4, 4] )\n",
        "print(f'A media seria: {Media} \\n')\n",
        "\n",
        "Mediana = statistics.median( [1, 2, 3, 4, 4] )\n",
        "print(f'A mediana seria: {Mediana} \\n')\n",
        "\n",
        "Moda = statistics.mode( [1, 2, 3, 4, 4] )\n",
        "print(f'A moda seria: {Moda}')"
      ],
      "metadata": {
        "colab": {
          "base_uri": "https://localhost:8080/"
        },
        "id": "87Npf9xs9edv",
        "outputId": "d5c17412-65bb-449f-8b32-9f897ef850eb"
      },
      "execution_count": null,
      "outputs": [
        {
          "output_type": "stream",
          "name": "stdout",
          "text": [
            "A media seria: 2.8 \n",
            "\n",
            "A mediana seria: 3 \n",
            "\n",
            "A moda seria: 4\n"
          ]
        }
      ]
    },
    {
      "cell_type": "markdown",
      "source": [
        "# **22º Condição If**\n",
        "if é a declaração mais simples de tomada de decisão. <p>Ele é usado para decidir se uma determinada instrução ou bloco de instruções será executado ou não, ou seja, se uma determinada condição for verdadeira, um bloco de instruções será executado, caso contrário, não.\n",
        "\n",
        "if condição :<p>\n",
        "*   declarações a serem executadas se\n",
        "*   condição é verdadeira\n",
        "\n"
      ],
      "metadata": {
        "id": "sa4ffKUyDbbX"
      }
    },
    {
      "cell_type": "code",
      "source": [
        "# Condição se a pessoa tiver menor de 18 anos, ela nao no sistema.\n",
        "Idade = 10\n",
        "\n",
        "if Idade >= 18:\n",
        "  print('você é maior de idade!')"
      ],
      "metadata": {
        "id": "ZHXnyy8dXmF3"
      },
      "execution_count": null,
      "outputs": []
    },
    {
      "cell_type": "code",
      "source": [
        "# Condição IF + ELSE\n",
        "\n",
        "Idade = int( 15 )\n",
        "\n",
        "if Idade >= 18:\n",
        "  print('Você é de maior!')\n",
        "\n",
        "else:\n",
        "  print('Você é menor de Idade!!! gugudada')"
      ],
      "metadata": {
        "colab": {
          "base_uri": "https://localhost:8080/"
        },
        "id": "EVqREeIXWi84",
        "outputId": "0398fa9c-78fb-4349-97f9-e813fd31ce38"
      },
      "execution_count": null,
      "outputs": [
        {
          "output_type": "stream",
          "name": "stdout",
          "text": [
            "Você é menor de Idade!!! gugudada\n"
          ]
        }
      ]
    },
    {
      "cell_type": "code",
      "source": [
        "# Condição IF + ELSE + ELIF\n",
        "\n",
        "Idade = int( 14 )\n",
        "\n",
        "if Idade > 18:\n",
        "  print('Você é de maior!')\n",
        "\n",
        "elif Idade == 18:\n",
        "  print('Opa! Welcome the jungle!!! ')\n",
        "\n",
        "elif Idade < 18 and Idade >= 14:\n",
        "\n",
        "  if Idade % 2 == 0:\n",
        "    print('Quase um adulto!!! Aproveita !!!!!!!!!!')\n",
        "\n",
        "else:\n",
        "  print('Você é menor de Idade!!! gugudada')"
      ],
      "metadata": {
        "colab": {
          "base_uri": "https://localhost:8080/"
        },
        "id": "yxW4eBrbWqQ_",
        "outputId": "98b7b2c5-a67c-4069-b6b0-50e9475113e0"
      },
      "execution_count": null,
      "outputs": [
        {
          "output_type": "stream",
          "name": "stdout",
          "text": [
            "Quase um adulto!!! Aproveita !!!!!!!!!!\n"
          ]
        }
      ]
    },
    {
      "cell_type": "markdown",
      "source": [
        "# **23º Estrutura de Loop FOR**\n",
        "O loop For do Python é usado para travessia seqüencial, ou seja, é usado para iterar sobre um iterável como string, tupla, lista, etc. Ele se enquadra na categoria de iteração definida . Iterações definidas significam que o número de repetições é especificado explicitamente com antecedência. <p>\n",
        "for variável in objeto:\n",
        "*   loop\n",
        "\n"
      ],
      "metadata": {
        "id": "loDAbkKVFBQo"
      }
    },
    {
      "cell_type": "code",
      "source": [
        "# For [ Loop ]\n",
        "\n",
        "for QualquerCoisaQueVoceQuiser in range(10):\n",
        "  print( QualquerCoisaQueVoceQuiser ** 2  ) "
      ],
      "metadata": {
        "id": "wFLN2e5NEBpd",
        "colab": {
          "base_uri": "https://localhost:8080/"
        },
        "outputId": "3c326781-1b8a-4445-aaef-5b313cc0d607"
      },
      "execution_count": null,
      "outputs": [
        {
          "output_type": "stream",
          "name": "stdout",
          "text": [
            "0\n",
            "1\n",
            "4\n",
            "9\n",
            "16\n",
            "25\n",
            "36\n",
            "49\n",
            "64\n",
            "81\n"
          ]
        }
      ]
    },
    {
      "cell_type": "code",
      "source": [
        "# For + Lista\n",
        "\n",
        "Lista_Paises = ['Brasil', 'Argentina', 'Uruguai', 'Chile', 'Paraguai', 'Bolivia', 'Equador', \n",
        "                'Colombia', 'Suriname', 'Guiane', 'Goianai France']\n",
        "\n",
        "for Loop in Lista_Paises:\n",
        "  print( Loop )"
      ],
      "metadata": {
        "colab": {
          "base_uri": "https://localhost:8080/"
        },
        "id": "v2L7juIgWzSi",
        "outputId": "4f126b2f-4829-45f2-8c49-f0ddae92c693"
      },
      "execution_count": null,
      "outputs": [
        {
          "output_type": "stream",
          "name": "stdout",
          "text": [
            "Brasil\n",
            "Argentina\n",
            "Uruguai\n",
            "Chile\n",
            "Paraguai\n",
            "Bolivia\n",
            "Equador\n",
            "Colombia\n",
            "Suriname\n",
            "Guiane\n",
            "Goianai France\n"
          ]
        }
      ]
    },
    {
      "cell_type": "code",
      "source": [
        "# For + Lista\n",
        "Lista_Paises = ['Brasil', 'Argentina', 'Uruguai', 'Chile', 'Paraguai', 'Bolivia', \n",
        "                'Equador', 'Colombia', 'Suriname, Guiane, Goianai France']\n",
        "\n",
        "for Loop in range( len(Lista_Paises) ):\n",
        "  print( Lista_Paises[Loop] )"
      ],
      "metadata": {
        "colab": {
          "base_uri": "https://localhost:8080/"
        },
        "id": "vGrayTvPW7V7",
        "outputId": "507aae6e-051b-4d58-8c9a-8c49174e8ed6"
      },
      "execution_count": null,
      "outputs": [
        {
          "output_type": "stream",
          "name": "stdout",
          "text": [
            "Brasil\n",
            "Argentina\n",
            "Uruguai\n",
            "Chile\n",
            "Paraguai\n",
            "Bolivia\n",
            "Equador\n",
            "Colombia\n",
            "Suriname, Guiane, Goianai France\n"
          ]
        }
      ]
    },
    {
      "cell_type": "code",
      "source": [
        "# For + Lista + IF + enumerate\n",
        "for Posicao, P in enumerate( Lista_Paises ):\n",
        "  print( Posicao / 4 , P )"
      ],
      "metadata": {
        "colab": {
          "base_uri": "https://localhost:8080/"
        },
        "id": "oK3FGvztXCBw",
        "outputId": "76d62c9c-9d30-43ec-edbf-67429cc08c8f"
      },
      "execution_count": null,
      "outputs": [
        {
          "output_type": "stream",
          "name": "stdout",
          "text": [
            "0.0 Brasil\n",
            "0.25 Argentina\n",
            "0.5 Uruguai\n",
            "0.75 Chile\n",
            "1.0 Paraguai\n",
            "1.25 Bolivia\n",
            "1.5 Equador\n",
            "1.75 Colombia\n",
            "2.0 Suriname, Guiane, Goianai France\n"
          ]
        }
      ]
    },
    {
      "cell_type": "code",
      "source": [
        "# for + LISTa + IF + RANGE\n",
        "Lista_Numerica = [ Numero for Numero in range(1, 100, 5) ]\n",
        "Armazenar = []\n",
        "\n",
        "for x in Lista_Numerica:\n",
        "\n",
        "  if x % 2 == 0:\n",
        "    Armazenar.append( x )\n",
        "\n",
        "print( Armazenar )\n",
        "\n",
        "from pandas import DataFrame\n",
        "print( DataFrame(Armazenar) )"
      ],
      "metadata": {
        "colab": {
          "base_uri": "https://localhost:8080/"
        },
        "id": "sSupXTHsXFY8",
        "outputId": "5a06ae62-49dd-4557-c9d3-120fc5991dc1"
      },
      "execution_count": null,
      "outputs": [
        {
          "output_type": "stream",
          "name": "stdout",
          "text": [
            "[6, 16, 26, 36, 46, 56, 66, 76, 86, 96]\n",
            "    0\n",
            "0   6\n",
            "1  16\n",
            "2  26\n",
            "3  36\n",
            "4  46\n",
            "5  56\n",
            "6  66\n",
            "7  76\n",
            "8  86\n",
            "9  96\n"
          ]
        }
      ]
    },
    {
      "cell_type": "code",
      "source": [
        "# For + Lista + Dicionario\n",
        "\n",
        "Lista = [ 'Brasil', 'Argentina', 'Uruaguai', 'Paraguai' ]\n",
        "\n",
        "Dicionario = {\n",
        "    'Brasil' : 'Real',\n",
        "    'Argentina' : 'Peso ARG',\n",
        "    'Uruaguai' : 'Peso URU',\n",
        "    'Paraguai' : 'Guarany'\n",
        "}\n",
        "\n",
        "for Paises in Lista:\n",
        "\n",
        "  if Paises == 'Brasil':\n",
        "    print( f'Moeda do {Paises} é { Dicionario[Paises] }' )\n",
        "    print('Mooeda do', Paises, 'é', Dicionario[Paises] )\n",
        "    print('Mooeda do ' + str (Paises) + ' é ' + str(Dicionario[Paises] ) )\n",
        "  else:\n",
        "    pass"
      ],
      "metadata": {
        "colab": {
          "base_uri": "https://localhost:8080/"
        },
        "id": "n4f3dBYFXIoV",
        "outputId": "13702916-2346-40c9-84ad-b3378f149ab6"
      },
      "execution_count": null,
      "outputs": [
        {
          "output_type": "stream",
          "name": "stdout",
          "text": [
            "Moeda do Brasil é Real\n",
            "Mooeda do Brasil é Real\n",
            "Mooeda do Brasil é Real\n"
          ]
        }
      ]
    },
    {
      "cell_type": "markdown",
      "source": [
        "# **24º Estrutura de Loop WHILE**\n",
        "Python While Loop é usado para executar um bloco de instruções repetidamente até que uma determinada condição seja satisfeita. E quando a condição se torna falsa, a linha imediatamente após o loop no programa é executada. While loop se enquadra na categoria de iteração indefinida . A iteração indefinida significa que o número de vezes que o loop é executado não é especificado explicitamente com antecedência.<p>\n",
        "while expressão:\n",
        "*   loop\n",
        "\n",
        "\n"
      ],
      "metadata": {
        "id": "7FpxhKe9FqbX"
      }
    },
    {
      "cell_type": "code",
      "source": [
        "# While\n",
        "Loop = 0\n",
        "\n",
        "while Loop <= 10:\n",
        "  print( Loop )\n",
        "  Loop += 1"
      ],
      "metadata": {
        "id": "v3CkR4oQGj7J",
        "colab": {
          "base_uri": "https://localhost:8080/"
        },
        "outputId": "4c7bd2fe-0dd7-416f-c0ef-ef3a7f71f6dd"
      },
      "execution_count": null,
      "outputs": [
        {
          "output_type": "stream",
          "name": "stdout",
          "text": [
            "0\n",
            "1\n",
            "2\n",
            "3\n",
            "4\n",
            "5\n",
            "6\n",
            "7\n",
            "8\n",
            "9\n",
            "10\n"
          ]
        }
      ]
    },
    {
      "cell_type": "code",
      "source": [
        "# While\n",
        "Loop = 0\n",
        "\n",
        "while Loop <= 10:\n",
        "  print( Loop )\n",
        "  Loop += 1\n",
        "\n",
        "  if Loop == 5:\n",
        "    \n",
        "    for c in range(10):\n",
        "      print(c)"
      ],
      "metadata": {
        "colab": {
          "base_uri": "https://localhost:8080/"
        },
        "id": "TGZGO_WTXMwh",
        "outputId": "eb910bbf-96de-4bb5-d4b3-aa6ef9c119c2"
      },
      "execution_count": null,
      "outputs": [
        {
          "output_type": "stream",
          "name": "stdout",
          "text": [
            "0\n",
            "1\n",
            "2\n",
            "3\n",
            "4\n",
            "0\n",
            "1\n",
            "2\n",
            "3\n",
            "4\n",
            "5\n",
            "6\n",
            "7\n",
            "8\n",
            "9\n",
            "5\n",
            "6\n",
            "7\n",
            "8\n",
            "9\n",
            "10\n"
          ]
        }
      ]
    },
    {
      "cell_type": "code",
      "source": [
        "# While True\n",
        "# Joginho\n",
        "import random\n",
        "\n",
        "while True:\n",
        "\n",
        "  Jogador1 = random.randint(0, 6)\n",
        "  Jogador2 = random.randint(5, 10)\n",
        "\n",
        "  if Jogador1 > Jogador2:\n",
        "    print(Jogador1, '-', Jogador2, 'FINALMENTE !!!!!!!!!!!')\n",
        "    break\n",
        "\n",
        "  else:\n",
        "    print(Jogador1, '-', Jogador2)"
      ],
      "metadata": {
        "colab": {
          "base_uri": "https://localhost:8080/"
        },
        "id": "L94HlSMBXMzM",
        "outputId": "f3d96a84-3d31-4984-d56f-88eb26266904"
      },
      "execution_count": null,
      "outputs": [
        {
          "output_type": "stream",
          "name": "stdout",
          "text": [
            "5 - 10\n",
            "6 - 8\n",
            "6 - 10\n",
            "3 - 9\n",
            "5 - 5\n",
            "4 - 10\n",
            "4 - 6\n",
            "6 - 7\n",
            "3 - 10\n",
            "3 - 5\n",
            "5 - 6\n",
            "2 - 9\n",
            "5 - 6\n",
            "6 - 6\n",
            "2 - 9\n",
            "0 - 7\n",
            "2 - 6\n",
            "0 - 5\n",
            "1 - 9\n",
            "1 - 10\n",
            "5 - 10\n",
            "3 - 10\n",
            "5 - 5\n",
            "5 - 5\n",
            "2 - 8\n",
            "2 - 5\n",
            "2 - 7\n",
            "4 - 5\n",
            "4 - 8\n",
            "1 - 10\n",
            "4 - 7\n",
            "6 - 8\n",
            "3 - 7\n",
            "6 - 8\n",
            "1 - 10\n",
            "2 - 7\n",
            "0 - 8\n",
            "3 - 8\n",
            "0 - 8\n",
            "2 - 9\n",
            "2 - 5\n",
            "5 - 8\n",
            "4 - 10\n",
            "1 - 5\n",
            "0 - 7\n",
            "4 - 6\n",
            "0 - 7\n",
            "5 - 10\n",
            "4 - 8\n",
            "4 - 8\n",
            "4 - 5\n",
            "6 - 9\n",
            "0 - 8\n",
            "5 - 7\n",
            "2 - 9\n",
            "6 - 5 FINALMENTE !!!!!!!!!!!\n"
          ]
        }
      ]
    },
    {
      "cell_type": "markdown",
      "source": [
        "# **25º Estrutura de Quebra BREAK e CONTINUE**\n",
        "O uso de loops no Python automatiza e repete as tarefas de maneira eficiente. Mas, às vezes, pode surgir uma condição em que você deseja sair completamente do loop, pular uma iteração ou ignorar essa condição. Isso pode ser feito por instruções de controle de loop . As instruções de controle de loop alteram a execução de sua sequência normal. Quando a execução sai de um escopo, todos os objetos automáticos que foram criados nesse escopo são destruídos. Python suporta as seguintes instruções de controle."
      ],
      "metadata": {
        "id": "noodylU2GVbI"
      }
    },
    {
      "cell_type": "code",
      "source": [
        "# For + Lista + IF + Break\n",
        "Lista_Paises = ['Brasil', 'Argentina', 'Uruguai', 'Chile', 'Paraguai', 'Bolivia', \n",
        "                'Equador', 'Colombia', 'Suriname, Guiane, Goianai France']\n",
        "Loop = 0\n",
        "\n",
        "for P in Lista_Paises:\n",
        "\n",
        "  if P == 'Chile':\n",
        "    print('Chegou')\n",
        "    break\n",
        "\n",
        "  else:\n",
        "    pass\n",
        "\n",
        "  Loop += 1\n",
        "  print( Loop )"
      ],
      "metadata": {
        "id": "MqjsMqmCF00z",
        "colab": {
          "base_uri": "https://localhost:8080/"
        },
        "outputId": "3077967c-cdc6-4894-e51a-63968d2518bf"
      },
      "execution_count": null,
      "outputs": [
        {
          "output_type": "stream",
          "name": "stdout",
          "text": [
            "1\n",
            "2\n",
            "3\n",
            "Chegou\n"
          ]
        }
      ]
    },
    {
      "cell_type": "code",
      "source": [
        "# While\n",
        "Loop = 0\n",
        "\n",
        "while Loop <= 10:\n",
        "  print( Loop )\n",
        "  Loop += 1\n",
        "\n",
        "  if Loop == 5:\n",
        "    \n",
        "    for c in range(10):\n",
        "      print(c)\n",
        "  \n",
        "    break"
      ],
      "metadata": {
        "id": "uo-bnZ7YXPBz",
        "colab": {
          "base_uri": "https://localhost:8080/"
        },
        "outputId": "5dc185d1-fb08-495c-8aa1-53c8b67d2040"
      },
      "execution_count": null,
      "outputs": [
        {
          "output_type": "stream",
          "name": "stdout",
          "text": [
            "0\n",
            "1\n",
            "2\n",
            "3\n",
            "4\n",
            "0\n",
            "1\n",
            "2\n",
            "3\n",
            "4\n",
            "5\n",
            "6\n",
            "7\n",
            "8\n",
            "9\n"
          ]
        }
      ]
    },
    {
      "cell_type": "code",
      "source": [
        "# Loop de 1 a 10\n",
        "for i in range(1, 11):\n",
        " \n",
        "    # If i is equals to 6,\n",
        "    # continue to next iteration\n",
        "    # without printing\n",
        "    if i == 5:\n",
        "      continue\n",
        "      print(f'{i}º interação --> Estou no IF')\n",
        "        \n",
        "    else:\n",
        "        # otherwise print the value\n",
        "        # of i\n",
        "        print(f'{i}º Continue continua sempre!!!!')\n",
        "        #print(i)"
      ],
      "metadata": {
        "colab": {
          "base_uri": "https://localhost:8080/"
        },
        "id": "g-Q3loRuaCAS",
        "outputId": "53ead85b-a54d-497d-811f-43f0b4dd3f5b"
      },
      "execution_count": null,
      "outputs": [
        {
          "output_type": "stream",
          "name": "stdout",
          "text": [
            "1º Continue continua sempre!!!!\n",
            "2º Continue continua sempre!!!!\n",
            "3º Continue continua sempre!!!!\n",
            "4º Continue continua sempre!!!!\n",
            "6º Continue continua sempre!!!!\n",
            "7º Continue continua sempre!!!!\n",
            "8º Continue continua sempre!!!!\n",
            "9º Continue continua sempre!!!!\n",
            "10º Continue continua sempre!!!!\n"
          ]
        }
      ]
    },
    {
      "cell_type": "markdown",
      "source": [
        "# **26º Estrutura de Funções**\n",
        "Uma função é um bloco de código que só é executado quando é chamado.<p>\n",
        "Você pode passar dados, conhecidos como parâmetros, para uma função.<p>\n",
        "Uma função pode retornar dados como resultado.\n",
        "\n"
      ],
      "metadata": {
        "id": "R_Am7FRBOnUC"
      }
    },
    {
      "cell_type": "code",
      "source": [
        "# Funções simples\n",
        "def Somar(Valor1, Valor2):\n",
        "  Soma = Valor1 + Valor2\n",
        "  print(Soma)\n",
        "\n",
        "Somar(-67.900, 10.121233)"
      ],
      "metadata": {
        "id": "8GZLV-nCOusD",
        "colab": {
          "base_uri": "https://localhost:8080/"
        },
        "outputId": "5c3d5bfc-4552-402e-e18c-672e82b76ae7"
      },
      "execution_count": null,
      "outputs": [
        {
          "output_type": "stream",
          "name": "stdout",
          "text": [
            "-57.778767\n"
          ]
        }
      ]
    },
    {
      "cell_type": "code",
      "source": [
        "def Boas_Vindas():\n",
        "  print('********* PYTHON **************')\n",
        "\n",
        "Boas_Vindas()"
      ],
      "metadata": {
        "colab": {
          "base_uri": "https://localhost:8080/"
        },
        "id": "D15f-hGRXTyb",
        "outputId": "aa4003df-d315-4b0d-8201-5d1adb1864d3"
      },
      "execution_count": null,
      "outputs": [
        {
          "output_type": "stream",
          "name": "stdout",
          "text": [
            "********* PYTHON **************\n"
          ]
        }
      ]
    },
    {
      "cell_type": "code",
      "source": [
        "from random import randint\n",
        "# Função\n",
        "def Sobrenome( Algum_Texto, Numero ):\n",
        "  print(f'Nome dele é: {Algum_Texto}')\n",
        "\n",
        "  if Numero >= 10:\n",
        "    print('Maior que 10')\n",
        "  else:\n",
        "    print('NADA!')\n",
        "\n",
        "Lista_Nomes = ['Odemir', 'Luigi', 'Mariana']\n",
        "\n",
        "for Nome in Lista_Nomes:\n",
        "  Sobrenome( Nome, randint(1,12) )"
      ],
      "metadata": {
        "colab": {
          "base_uri": "https://localhost:8080/"
        },
        "id": "ZCo_VY__XWV3",
        "outputId": "9320143e-4ac0-42e5-8324-ce235289d84c"
      },
      "execution_count": null,
      "outputs": [
        {
          "output_type": "stream",
          "name": "stdout",
          "text": [
            "Nome dele é: Odemir\n",
            "NADA!\n",
            "Nome dele é: Luigi\n",
            "NADA!\n",
            "Nome dele é: Mariana\n",
            "NADA!\n"
          ]
        }
      ]
    },
    {
      "cell_type": "markdown",
      "source": [
        "# **27º Estrutura Lambda**\n",
        "Uma função lambda é uma pequena função anônima.<p>\n",
        "Uma função lambda pode receber qualquer número de argumentos, mas pode ter apenas uma expressão."
      ],
      "metadata": {
        "id": "fvEKA7fPOvIY"
      }
    },
    {
      "cell_type": "code",
      "source": [
        "# Função\n",
        "Funcao = lambda valor: valor + 10\n",
        "print( Funcao( 10 ) )\n",
        "\n",
        "Funcao_02 = lambda valor1, valor2 : valor1 + valor2\n",
        "print( Funcao_02( 100 , 100 ) )"
      ],
      "metadata": {
        "id": "hoEbekXhOxwZ",
        "colab": {
          "base_uri": "https://localhost:8080/"
        },
        "outputId": "aef9bfff-f2a9-4912-ffb4-3b25d31e604c"
      },
      "execution_count": null,
      "outputs": [
        {
          "output_type": "stream",
          "name": "stdout",
          "text": [
            "20\n",
            "200\n"
          ]
        }
      ]
    },
    {
      "cell_type": "code",
      "source": [
        "# Função Lambda\n",
        "Nao_Faxa_isso = lambda Qualquer_Valor: 'Verdadeiro' if Qualquer_Valor % 2 == 0 else 'Falso'\n",
        "#Nao_Faxa_isso = lambda x: True if x % 2 == 0 else Falso\n",
        "Nao_Faxa_isso( 100 )"
      ],
      "metadata": {
        "colab": {
          "base_uri": "https://localhost:8080/",
          "height": 35
        },
        "id": "xolelYKrXcX5",
        "outputId": "46695b9e-393f-43db-99b3-cc3c70b2082e"
      },
      "execution_count": null,
      "outputs": [
        {
          "output_type": "execute_result",
          "data": {
            "text/plain": [
              "'Verdadeiro'"
            ],
            "application/vnd.google.colaboratory.intrinsic+json": {
              "type": "string"
            }
          },
          "metadata": {},
          "execution_count": 42
        }
      ]
    },
    {
      "cell_type": "markdown",
      "source": [
        "# **28º Estrutura TRY**\n",
        "O **try** permite testar um bloco de código quanto a erros.<p>\n",
        "O **except** permite que você lide com o erro.<p>\n",
        "O **else** permite executar código quando não há erro. <p>\n",
        "O **finally** permite que você execute código, independentemente do resultado dos blocos try e except. <p>\n",
        "\n"
      ],
      "metadata": {
        "id": "Hs9bCzzEO188"
      }
    },
    {
      "cell_type": "code",
      "source": [
        "# \n",
        "try:\n",
        "  0 / 0 \n",
        "except:\n",
        "  print('Deu Ruim!!!')"
      ],
      "metadata": {
        "id": "xyxiQY6oO4pP",
        "colab": {
          "base_uri": "https://localhost:8080/"
        },
        "outputId": "5bc55737-6f14-4670-f179-c477fad9ec5d"
      },
      "execution_count": null,
      "outputs": [
        {
          "output_type": "stream",
          "name": "stdout",
          "text": [
            "Deu Ruim!!!\n"
          ]
        }
      ]
    },
    {
      "cell_type": "code",
      "source": [
        "\n",
        "try:\n",
        "  print(Algo_Coisa_Que_Nao_Defini)\n",
        "\n",
        "except NameError:\n",
        "  print(\"Ops deu algum erro!\")\n",
        "\n",
        "finally:\n",
        "  print(\"Vou ser executado de qualquer forma\")"
      ],
      "metadata": {
        "colab": {
          "base_uri": "https://localhost:8080/"
        },
        "id": "2SgAKDxBa6q6",
        "outputId": "c0acb00b-a749-458b-af5a-743bbeb278fb"
      },
      "execution_count": null,
      "outputs": [
        {
          "output_type": "stream",
          "name": "stdout",
          "text": [
            "Ops deu algum erro!\n",
            "Vou ser executado de qualquer forma\n"
          ]
        }
      ]
    },
    {
      "cell_type": "markdown",
      "source": [
        "# 29° Estrutura de Classes/Objetos\n",
        "Python é uma linguagem de programação orientada a objetos.<p>\n",
        "Quase tudo em Python é um objeto, com suas propriedades e métodos.<p>\n",
        "Uma classe é como um construtor de objetos, ou um \"projeto\" para criar objetos."
      ],
      "metadata": {
        "id": "JwEWcdRfPFyA"
      }
    },
    {
      "cell_type": "code",
      "source": [
        "class Pessoa:\n",
        "\n",
        "  # Metodo Construtor\n",
        "  def __init__(self, Nome, Idade):\n",
        "    self.Nome = Nome\n",
        "    self.Idade = Idade\n",
        "\n",
        "  def Boas_Vindas(self):\n",
        "    print('Olá sem benvindo: ', self.Nome)\n",
        "\n",
        "  def Recusado(self):\n",
        "    print('Seu acesso foi recusado!')\n",
        "\n",
        "  # Função\n",
        "  def Maior_Idade(self):\n",
        "    if self.Idade >= 18:\n",
        "      print('Usuário é maior de idade')\n",
        "      self.Boas_Vindas()\n",
        "    else:\n",
        "      print('Usuário é menor de Idade')\n",
        "      self.Recusado()"
      ],
      "metadata": {
        "id": "cfN8jl6ZhAI9"
      },
      "execution_count": null,
      "outputs": []
    },
    {
      "cell_type": "code",
      "source": [
        "Dados = Pessoa('Odemir', 12)"
      ],
      "metadata": {
        "id": "HIZOScMkhB0m"
      },
      "execution_count": null,
      "outputs": []
    },
    {
      "cell_type": "code",
      "source": [
        "Dados.Maior_Idade()"
      ],
      "metadata": {
        "colab": {
          "base_uri": "https://localhost:8080/"
        },
        "id": "2a8OFXZghB3D",
        "outputId": "3f4f6772-86e5-4884-d2d2-0cdb6f1b0f18"
      },
      "execution_count": null,
      "outputs": [
        {
          "output_type": "stream",
          "name": "stdout",
          "text": [
            "Usuário é menor de Idade\n",
            "Seu acesso foi recusado!\n"
          ]
        }
      ]
    },
    {
      "cell_type": "markdown",
      "source": [
        "# **30º Módulos/Pacotes**\n",
        "Considere um módulo como sendo o mesmo que uma biblioteca de código.<p>\n",
        "Para instalar um pacote utilize o 'pip install'"
      ],
      "metadata": {
        "id": "XtIq1njAfzDg"
      }
    },
    {
      "cell_type": "code",
      "source": [
        "import time\n",
        "import datetime"
      ],
      "metadata": {
        "id": "r9T5J89bkZWp"
      },
      "execution_count": null,
      "outputs": []
    },
    {
      "cell_type": "code",
      "source": [
        "# !pip install pandas\n",
        "!pip install pandas"
      ],
      "metadata": {
        "colab": {
          "base_uri": "https://localhost:8080/"
        },
        "id": "43IwL9uIktw7",
        "outputId": "8ad11958-a35b-473c-9622-3a4806ab5a01"
      },
      "execution_count": null,
      "outputs": [
        {
          "output_type": "stream",
          "name": "stdout",
          "text": [
            "Requirement already satisfied: pandas in /usr/local/lib/python3.7/dist-packages (1.3.5)\n",
            "Requirement already satisfied: numpy>=1.17.3 in /usr/local/lib/python3.7/dist-packages (from pandas) (1.21.5)\n",
            "Requirement already satisfied: pytz>=2017.3 in /usr/local/lib/python3.7/dist-packages (from pandas) (2018.9)\n",
            "Requirement already satisfied: python-dateutil>=2.7.3 in /usr/local/lib/python3.7/dist-packages (from pandas) (2.8.2)\n",
            "Requirement already satisfied: six>=1.5 in /usr/local/lib/python3.7/dist-packages (from python-dateutil>=2.7.3->pandas) (1.15.0)\n"
          ]
        }
      ]
    },
    {
      "cell_type": "markdown",
      "source": [
        "# **31° Print formatado**\n",
        "Existe diversas formas de utilizar prints no python"
      ],
      "metadata": {
        "id": "8PCXIVOMlHCQ"
      }
    },
    {
      "cell_type": "code",
      "source": [
        "print('Soma de 2 + 2 é:', 2 + 2 )"
      ],
      "metadata": {
        "colab": {
          "base_uri": "https://localhost:8080/"
        },
        "id": "rLs1tqm-lcbt",
        "outputId": "b1bd2631-8ee1-4fc7-ade9-e6656def74e0"
      },
      "execution_count": null,
      "outputs": [
        {
          "output_type": "stream",
          "name": "stdout",
          "text": [
            "Soma de 2 + 2 é: 4\n"
          ]
        }
      ]
    },
    {
      "cell_type": "code",
      "source": [
        "print( f'Soma de 2 + 2 é: { round(2 + 2) }' )"
      ],
      "metadata": {
        "colab": {
          "base_uri": "https://localhost:8080/"
        },
        "id": "bgr2MXLLlpcD",
        "outputId": "6382995f-18e5-428a-a54a-f7ea722c464d"
      },
      "execution_count": null,
      "outputs": [
        {
          "output_type": "stream",
          "name": "stdout",
          "text": [
            "Soma de 2 + 2 é: 4\n"
          ]
        }
      ]
    },
    {
      "cell_type": "code",
      "source": [
        "print('Soma de 2 + 2 é: {}'.format(2+2) )"
      ],
      "metadata": {
        "colab": {
          "base_uri": "https://localhost:8080/"
        },
        "id": "BceEEtaslxt5",
        "outputId": "38f11b5f-6f18-49a7-ed9d-6341c3c341aa"
      },
      "execution_count": null,
      "outputs": [
        {
          "output_type": "stream",
          "name": "stdout",
          "text": [
            "Soma de 2 + 2 é: 4\n"
          ]
        }
      ]
    }
  ]
}